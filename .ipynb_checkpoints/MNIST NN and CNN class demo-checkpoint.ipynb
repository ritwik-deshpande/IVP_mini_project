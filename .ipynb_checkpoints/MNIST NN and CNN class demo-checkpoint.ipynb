{
 "cells": [
  {
   "cell_type": "markdown",
   "metadata": {},
   "source": [
    "# 1. Example 1: sample neural network on data set "
   ]
  },
  {
   "cell_type": "code",
   "execution_count": null,
   "metadata": {},
   "outputs": [],
   "source": [
    "# Above same program but using perceptron traning rule update weights for every traning example\n",
    "\n",
    "import numpy as np\n",
    "\n",
    "def sigmoid(x):\n",
    "    return 1/(1+np.exp(-x))\n",
    "\n",
    "def weightupdate(x,inlayer):\n",
    "    waitadjust=list()\n",
    "    for i in range((inlayer.shape[0])):\n",
    "        waitadjust.append(0.1*x*inlayer[i]) #0.1 learning rate\n",
    "        #print(inlayer[i])\n",
    "        #print(waitadjust)\n",
    "    return waitadjust\n",
    "\n",
    "traning_inputs=np.array([[0,0,1],[1,1,1],[1,0,1],[0,1,1],[1,1,0]])\n",
    "traning_outputs=np.array([[0,1,1,0,1]]).T\n",
    "observed_outputs=[0,0,0,0,0]\n",
    "np.random.seed(1) # it make generate same random numbers on multiple runs  \n",
    "synaptic_weights= 2*np.random.random((traning_inputs[0].shape[0],1))-1 # np.random.random(rows,coloumns)-1\n",
    "#synaptic_weights= 2*np.random.random((3,1))-1 # np.random.random(rows,coloumns)-1\n",
    "print(\"Random starting Synaptic weights:\")\n",
    "print(synaptic_weights)\n",
    "\n",
    "for i in range(10000):\n",
    "    index=0\n",
    "    for input_layer in traning_inputs:\n",
    "        #input_layer=traning_inputs\n",
    "        #print(input_layer)\n",
    "        #print(np.dot(input_layer,synaptic_weights))\n",
    "        output=sigmoid(np.dot(input_layer,synaptic_weights))\n",
    "        #print(outputs)\n",
    "        error=traning_outputs[index]-output\n",
    "        observed_outputs[index]=output\n",
    "        \n",
    "        deltaweights=weightupdate(error,input_layer)\n",
    "        synaptic_weights+=deltaweights\n",
    "        #print(synaptic_weights)        \n",
    "        index+=1\n",
    "        #print(index)\n",
    "        \n",
    "print(\"Synaptic weights after traning :\")\n",
    "print(synaptic_weights)\n",
    "\n",
    "print(\"Outputs after traning:\")\n",
    "print(np.array(observed_outputs))\n",
    "\n",
    "print(\"Enter New data instanace ti find class label:\")\n",
    "a=float(input(\"Input 1:\"))\n",
    "b=float(input(\"Input 2:\"))\n",
    "c=float(input(\"Input 3:\"))\n",
    "print(\"Entered New Data Instance is: \",a,b,c)\n",
    "\n",
    "value=sigmoid(np.dot(np.array([a,b,c]),synaptic_weights))\n",
    "if value > 0.8:\n",
    "    print(\"New Instance class label is : 1\")\n",
    "else:\n",
    "    print(\"New Instance class label is : 0\")\n",
    "#print(traning_inputs)\n",
    "#print(traning_outputs)\n",
    "#Observation: model overfitted for 20000 tranings iterations"
   ]
  },
  {
   "cell_type": "markdown",
   "metadata": {},
   "source": [
    "# > Steps for NN program\n",
    "    1. Load data\n",
    "    2. Define Keras Model.\n",
    "    3. Compile Keras Model.\n",
    "    4. Fit Keras Model.\n",
    "    5. Evaluate Keras Model.\n",
    "    6. Make Predictions"
   ]
  },
  {
   "cell_type": "markdown",
   "metadata": {},
   "source": [
    "# Example Neural Network Models"
   ]
  },
  {
   "cell_type": "markdown",
   "metadata": {},
   "source": [
    "### 1. Demo MLP Model "
   ]
  },
  {
   "cell_type": "code",
   "execution_count": null,
   "metadata": {},
   "outputs": [],
   "source": [
    "# Create your first MLP in Keras\n",
    "from keras.models import Sequential\n",
    "from keras.layers import Dense\n",
    "from keras.utils.vis_utils import plot_model # to get network flow visvalization\n",
    "from ann_visualizer.visualize import ann_viz; # to get Network Visvalization\n",
    "\n",
    "import numpy\n",
    "# fix random seed for reproducibility\n",
    "numpy.random.seed(7)\n",
    "# load pima indians dataset\n",
    "dataset = numpy.loadtxt(\"C:/Users/pchak/Desktop/MNISTDemo/New folder/pima-indians-diabetes.csv\", delimiter=\",\")\n",
    "# split into input (X) and output (Y) variables\n",
    "X = dataset[:,0:8]\n",
    "Y = dataset[:,8]\n",
    "# create model\n",
    "model = Sequential()\n",
    "model.add(Dense(12, input_dim=8, activation='relu'))\n",
    "model.add(Dense(8, activation='relu'))\n",
    "model.add(Dense(1, activation='sigmoid'))\n",
    "# Compile model\n",
    "model.compile(loss='binary_crossentropy', optimizer='adam', metrics=['accuracy'])\n",
    "# Fit the model\n",
    "model.fit(X, Y, epochs=2, batch_size=10)\n",
    "# evaluate the model\n",
    "scores = model.evaluate(X, Y)\n",
    "print(\"\\n%s: %.2f%%\" % (model.metrics_names[1], scores[1]*100))\n",
    "\n",
    "plot_model(model,to_file='C:/Users/pchak/Desktop/MNISTDemo/PlotMLPmodel.png',show_shapes=True, show_layer_names=True)\n",
    "ann_viz(model,view=True, filename=\"C:/Users/pchak/Desktop/MNISTDemo/VisMLPmodel.gv\",title=\"first MLP\")\n",
    "\n"
   ]
  },
  {
   "cell_type": "markdown",
   "metadata": {},
   "source": [
    "# 2. MNIST dataset description"
   ]
  },
  {
   "cell_type": "code",
   "execution_count": 1,
   "metadata": {},
   "outputs": [
    {
     "name": "stderr",
     "output_type": "stream",
     "text": [
      "Using TensorFlow backend.\n"
     ]
    },
    {
     "name": "stdout",
     "output_type": "stream",
     "text": [
      "60000 train samples\n",
      "10000 test samples\n",
      "[[  0   0   0   0   0   0   0   0   0   0   0   0   0   0   0   0   0   0\n",
      "    0   0   0   0   0   0   0   0   0   0]\n",
      " [  0   0   0   0   0   0   0   0   0   0   0   0   0   0   0   0   0   0\n",
      "    0   0   0   0   0   0   0   0   0   0]\n",
      " [  0   0   0   0   0   0   0   0   0   0   0   0   0   0   0   0   0   0\n",
      "    0   0   0   0   0   0   0   0   0   0]\n",
      " [  0   0   0   0   0   0   0   0   0   0   0   0   0   0   0   0   0   0\n",
      "    0   0   0   0   0   0   0   0   0   0]\n",
      " [  0   0   0   0   0   0   0   0   0   0   0   0   0   0   0   0   0   7\n",
      "  176 254 224   0   0   0   0   0   0   0]\n",
      " [  0   0   0   0   0   0   0   0   0   0   0   0   0   0   0   0   0  51\n",
      "  253 253 223   0   0   0   0   0   0   0]\n",
      " [  0   0   0   0   0   0   0   0   0   0   0   0   0   0   0   0   4 170\n",
      "  253 253 214   0   0   0   0   0   0   0]\n",
      " [  0   0   0   0   0   0   0   0   0   0   0   0   0   0   0   0 131 253\n",
      "  253 217  39   0   0   0   0   0   0   0]\n",
      " [  0   0   0   0   0   0   0   0   0   0   0   0   0   0   0   0 209 253\n",
      "  253 134   0   0   0   0   0   0   0   0]\n",
      " [  0   0   0   0   0   0   0   0   0   0   0   0   0   0   0  75 240 253\n",
      "  239  26   0   0   0   0   0   0   0   0]\n",
      " [  0   0   0   0   0   0   0   0   0   0   0   0   0   0   0 184 253 245\n",
      "   63   0   0   0   0   0   0   0   0   0]\n",
      " [  0   0   0   0   0   0   0   0   0   0   0   0   0   0 142 255 253 185\n",
      "    0   0   0   0   0   0   0   0   0   0]\n",
      " [  0   0   0   0   0   0   0   0   0   0   0   0   0  62 229 254 242  73\n",
      "    0   0   0   0   0   0   0   0   0   0]\n",
      " [  0   0   0   0   0   0   0   0   0   0   0   0  54 229 253 254 105   0\n",
      "    0   0   0   0   0   0   0   0   0   0]\n",
      " [  0   0   0   0   0   0   0   0   0   0   0   0 152 254 254 213  26   0\n",
      "    0   0   0   0   0   0   0   0   0   0]\n",
      " [  0   0   0   0   0   0   0   0   0   0   0  32 243 253 253 115   0   0\n",
      "    0   0   0   0   0   0   0   0   0   0]\n",
      " [  0   0   0   0   0   0   0   0   0   0   2 142 253 253 155   0   0   0\n",
      "    0   0   0   0   0   0   0   0   0   0]\n",
      " [  0   0   0   0   0   0   0   0   0   0  30 253 253 232  55   0   0   0\n",
      "    0   0   0   0   0   0   0   0   0   0]\n",
      " [  0   0   0   0   0   0   0   0   0   0  75 253 253 164   0   0   0   0\n",
      "    0   0   0   0   0   0   0   0   0   0]\n",
      " [  0   0   0   0   0   0   0   0   0  72 232 253 189  17   0   0   0   0\n",
      "    0   0   0   0   0   0   0   0   0   0]\n",
      " [  0   0   0   0   0   0   0   0   0 224 253 253 163   0   0   0   0   0\n",
      "    0   0   0   0   0   0   0   0   0   0]\n",
      " [  0   0   0   0   0   0   0   0  43 235 253 253 195  21   0   0   0   0\n",
      "    0   0   0   0   0   0   0   0   0   0]\n",
      " [  0   0   0   0   0   0   0   0  28 231 253 253 184  14   0   0   0   0\n",
      "    0   0   0   0   0   0   0   0   0   0]\n",
      " [  0   0   0   0   0   0   0   0   0 225 253 253  75   0   0   0   0   0\n",
      "    0   0   0   0   0   0   0   0   0   0]\n",
      " [  0   0   0   0   0   0   0   0   0   0   0   0   0   0   0   0   0   0\n",
      "    0   0   0   0   0   0   0   0   0   0]\n",
      " [  0   0   0   0   0   0   0   0   0   0   0   0   0   0   0   0   0   0\n",
      "    0   0   0   0   0   0   0   0   0   0]\n",
      " [  0   0   0   0   0   0   0   0   0   0   0   0   0   0   0   0   0   0\n",
      "    0   0   0   0   0   0   0   0   0   0]\n",
      " [  0   0   0   0   0   0   0   0   0   0   0   0   0   0   0   0   0   0\n",
      "    0   0   0   0   0   0   0   0   0   0]]\n",
      "Class Lable is:  1\n"
     ]
    },
    {
     "data": {
      "text/plain": [
       "<matplotlib.image.AxesImage at 0x24723854c18>"
      ]
     },
     "execution_count": 1,
     "metadata": {},
     "output_type": "execute_result"
    },
    {
     "data": {
      "image/png": "[encoded data removed]",
      "text/plain": [
       "<Figure size 432x288 with 1 Axes>"
      ]
     },
     "metadata": {
      "needs_background": "light"
     },
     "output_type": "display_data"
    }
   ],
   "source": [
    "from keras.datasets import mnist # download MNIST dataset\n",
    "import matplotlib.pyplot as plt\n",
    "\n",
    "(x_train, y_train), (x_test, y_test) = mnist.load_data()\n",
    "\n",
    "print(x_train.shape[0], 'train samples')\n",
    "print(x_test.shape[0], 'test samples')\n",
    "\n",
    "%matplotlib inline \n",
    "# Only use this if using iPython\n",
    "image_index = 59\n",
    "\n",
    "# You may select anything up to 60,000\n",
    "\n",
    "print(x_train[image_index])\n",
    "print(\"Class Lable is: \",y_train[image_index])\n",
    "\n",
    "plt.imshow(x_train[image_index].reshape(28,28), cmap='Greys')"
   ]
  },
  {
   "cell_type": "markdown",
   "metadata": {},
   "source": [
    "# 3. Example 2: Simple NN without hidden layers to train MNIST"
   ]
  },
  {
   "cell_type": "code",
   "execution_count": 5,
   "metadata": {},
   "outputs": [],
   "source": [
    "# import required modules \n",
    "import keras\n",
    "from keras.datasets import mnist\n",
    "from keras.models import Sequential\n",
    "from keras.layers.core import Dense,Activation,Dropout\n",
    "from keras.optimizers import RMSprop,SGD\n",
    "import numpy as np\n",
    "from keras.utils import np_utils\n",
    "from keras.utils.vis_utils import plot_model # to get network flow visvalization\n",
    "import matplotlib.pyplot as plt"
   ]
  },
  {
   "cell_type": "code",
   "execution_count": 6,
   "metadata": {},
   "outputs": [
    {
     "name": "stdout",
     "output_type": "stream",
     "text": [
      "(60000, 28, 28) train samples\n",
      "(60000,) train lables\n",
      "(10000, 28, 28) test samples\n",
      "(10000,) test lables\n"
     ]
    }
   ],
   "source": [
    "# Load data , data will be automatically shuffled and split between train and test sets\n",
    "(x_train, y_train), (x_test, y_test) = mnist.load_data()\n",
    "\n",
    "print(x_train.shape, 'train samples')\n",
    "print(y_train.shape, 'train lables')\n",
    "print(x_test.shape, 'test samples')\n",
    "print(y_test.shape, 'test lables')"
   ]
  },
  {
   "cell_type": "code",
   "execution_count": 7,
   "metadata": {},
   "outputs": [
    {
     "name": "stdout",
     "output_type": "stream",
     "text": [
      "(60000, 784) train samples\n",
      "(10000, 784) test samples\n"
     ]
    }
   ],
   "source": [
    "# Data Preprocessing :1. Flatten the data set \n",
    "x_train = x_train.reshape(60000, 784)\n",
    "x_test = x_test.reshape(10000, 784)\n",
    "print(x_train.shape, 'train samples')\n",
    "print(x_test.shape, 'test samples')"
   ]
  },
  {
   "cell_type": "code",
   "execution_count": 8,
   "metadata": {},
   "outputs": [
    {
     "name": "stdout",
     "output_type": "stream",
     "text": [
      "(60000, 784) train samples\n",
      "(10000, 784) test samples\n"
     ]
    }
   ],
   "source": [
    "#2. Normalizing the input values between 0 to 1 \n",
    "x_train = x_train.astype('float32')\n",
    "x_test = x_test.astype('float32')\n",
    "x_train /= 255\n",
    "x_test /= 255\n",
    "print(x_train.shape, 'train samples')\n",
    "print(x_test.shape, 'test samples')"
   ]
  },
  {
   "cell_type": "code",
   "execution_count": 9,
   "metadata": {},
   "outputs": [
    {
     "name": "stdout",
     "output_type": "stream",
     "text": [
      "(60000, 10) train samples\n",
      "(10000, 10) test samples\n"
     ]
    }
   ],
   "source": [
    "#3. convert class vectors to binary class matrices One-hot Encoding\n",
    "# It needs when learning algorithm is specialized for dealing with numerical functions\n",
    "y_train = keras.utils.to_categorical(y_train, 10)\n",
    "y_test = keras.utils.to_categorical(y_test, 10)\n",
    "\n",
    "print(y_train.shape, 'train samples')\n",
    "print(y_test.shape, 'test samples')"
   ]
  },
  {
   "cell_type": "code",
   "execution_count": 10,
   "metadata": {},
   "outputs": [
    {
     "name": "stderr",
     "output_type": "stream",
     "text": [
      "WARNING: Logging before flag parsing goes to stderr.\n",
      "W1017 10:25:07.914230 16168 deprecation_wrapper.py:119] From C:\\Users\\pchak\\Anaconda3\\envs\\Allnew1\\lib\\site-packages\\keras\\backend\\tensorflow_backend.py:74: The name tf.get_default_graph is deprecated. Please use tf.compat.v1.get_default_graph instead.\n",
      "\n",
      "W1017 10:25:07.962727 16168 deprecation_wrapper.py:119] From C:\\Users\\pchak\\Anaconda3\\envs\\Allnew1\\lib\\site-packages\\keras\\backend\\tensorflow_backend.py:517: The name tf.placeholder is deprecated. Please use tf.compat.v1.placeholder instead.\n",
      "\n",
      "W1017 10:25:07.977963 16168 deprecation_wrapper.py:119] From C:\\Users\\pchak\\Anaconda3\\envs\\Allnew1\\lib\\site-packages\\keras\\backend\\tensorflow_backend.py:4138: The name tf.random_uniform is deprecated. Please use tf.random.uniform instead.\n",
      "\n"
     ]
    },
    {
     "name": "stdout",
     "output_type": "stream",
     "text": [
      "_________________________________________________________________\n",
      "Layer (type)                 Output Shape              Param #   \n",
      "=================================================================\n",
      "dense_1 (Dense)              (None, 10)                7850      \n",
      "=================================================================\n",
      "Total params: 7,850\n",
      "Trainable params: 7,850\n",
      "Non-trainable params: 0\n",
      "_________________________________________________________________\n"
     ]
    }
   ],
   "source": [
    "#Build Model\n",
    "model = Sequential()\n",
    "model.add(Dense(10,input_shape=(784,), activation='softmax'))\n",
    "model.summary()\n",
    "plot_model(model,to_file='C:/Users/pchak/Desktop/MNISTDemo/SLPMNIST.png',show_shapes=True, show_layer_names=True)"
   ]
  },
  {
   "cell_type": "code",
   "execution_count": 11,
   "metadata": {},
   "outputs": [
    {
     "name": "stderr",
     "output_type": "stream",
     "text": [
      "W1017 10:25:10.903928 16168 deprecation_wrapper.py:119] From C:\\Users\\pchak\\Anaconda3\\envs\\Allnew1\\lib\\site-packages\\keras\\optimizers.py:790: The name tf.train.Optimizer is deprecated. Please use tf.compat.v1.train.Optimizer instead.\n",
      "\n",
      "W1017 10:25:10.918929 16168 deprecation_wrapper.py:119] From C:\\Users\\pchak\\Anaconda3\\envs\\Allnew1\\lib\\site-packages\\keras\\backend\\tensorflow_backend.py:3295: The name tf.log is deprecated. Please use tf.math.log instead.\n",
      "\n",
      "W1017 10:25:11.118086 16168 deprecation.py:323] From C:\\Users\\pchak\\Anaconda3\\envs\\Allnew1\\lib\\site-packages\\tensorflow\\python\\ops\\math_grad.py:1250: add_dispatch_support.<locals>.wrapper (from tensorflow.python.ops.array_ops) is deprecated and will be removed in a future version.\n",
      "Instructions for updating:\n",
      "Use tf.where in 2.0, which has the same broadcast rule as np.where\n",
      "W1017 10:25:11.232283 16168 deprecation_wrapper.py:119] From C:\\Users\\pchak\\Anaconda3\\envs\\Allnew1\\lib\\site-packages\\keras\\backend\\tensorflow_backend.py:986: The name tf.assign_add is deprecated. Please use tf.compat.v1.assign_add instead.\n",
      "\n"
     ]
    },
    {
     "name": "stdout",
     "output_type": "stream",
     "text": [
      "Train on 48000 samples, validate on 12000 samples\n",
      "Epoch 1/50\n",
      "48000/48000 [==============================] - 8s 176us/step - loss: 0.6863 - acc: 0.8282 - val_loss: 0.3596 - val_acc: 0.9042\n",
      "Epoch 2/50\n",
      "48000/48000 [==============================] - 3s 53us/step - loss: 0.3518 - acc: 0.9034 - val_loss: 0.3078 - val_acc: 0.9151\n",
      "Epoch 3/50\n",
      "48000/48000 [==============================] - 3s 55us/step - loss: 0.3159 - acc: 0.9125 - val_loss: 0.2928 - val_acc: 0.9169\n",
      "Epoch 4/50\n",
      "48000/48000 [==============================] - 3s 56us/step - loss: 0.2994 - acc: 0.9162 - val_loss: 0.2817 - val_acc: 0.9209\n",
      "Epoch 5/50\n",
      "48000/48000 [==============================] - 3s 55us/step - loss: 0.2898 - acc: 0.9192 - val_loss: 0.2761 - val_acc: 0.9247\n",
      "Epoch 6/50\n",
      "48000/48000 [==============================] - 3s 55us/step - loss: 0.2827 - acc: 0.9204 - val_loss: 0.2726 - val_acc: 0.9246\n",
      "Epoch 7/50\n",
      "48000/48000 [==============================] - 3s 55us/step - loss: 0.2776 - acc: 0.9226 - val_loss: 0.2698 - val_acc: 0.9256\n",
      "Epoch 8/50\n",
      "48000/48000 [==============================] - 2s 51us/step - loss: 0.2740 - acc: 0.9236 - val_loss: 0.2675 - val_acc: 0.9256\n",
      "Epoch 9/50\n",
      "48000/48000 [==============================] - 2s 51us/step - loss: 0.2708 - acc: 0.9250 - val_loss: 0.2656 - val_acc: 0.9283\n",
      "Epoch 10/50\n",
      "48000/48000 [==============================] - 3s 53us/step - loss: 0.2684 - acc: 0.9256 - val_loss: 0.2652 - val_acc: 0.9270\n",
      "Epoch 11/50\n",
      "48000/48000 [==============================] - 3s 54us/step - loss: 0.2663 - acc: 0.9258 - val_loss: 0.2638 - val_acc: 0.9290\n",
      "Epoch 12/50\n",
      "48000/48000 [==============================] - 3s 52us/step - loss: 0.2645 - acc: 0.9267 - val_loss: 0.2625 - val_acc: 0.9289\n",
      "Epoch 13/50\n",
      "48000/48000 [==============================] - 3s 55us/step - loss: 0.2626 - acc: 0.9282 - val_loss: 0.2627 - val_acc: 0.9290\n",
      "Epoch 14/50\n",
      "48000/48000 [==============================] - 3s 53us/step - loss: 0.2612 - acc: 0.9281 - val_loss: 0.2627 - val_acc: 0.9298\n",
      "Epoch 15/50\n",
      "48000/48000 [==============================] - 2s 52us/step - loss: 0.2598 - acc: 0.9287 - val_loss: 0.2619 - val_acc: 0.9298\n",
      "Epoch 16/50\n",
      "48000/48000 [==============================] - 3s 53us/step - loss: 0.2585 - acc: 0.9289 - val_loss: 0.2628 - val_acc: 0.9289\n",
      "Epoch 17/50\n",
      "48000/48000 [==============================] - 3s 52us/step - loss: 0.2575 - acc: 0.9289 - val_loss: 0.2629 - val_acc: 0.9302\n",
      "Epoch 18/50\n",
      "48000/48000 [==============================] - 3s 54us/step - loss: 0.2565 - acc: 0.9300 - val_loss: 0.2612 - val_acc: 0.9305\n",
      "Epoch 19/50\n",
      "48000/48000 [==============================] - 2s 47us/step - loss: 0.2557 - acc: 0.9300 - val_loss: 0.2606 - val_acc: 0.9303\n",
      "Epoch 20/50\n",
      "48000/48000 [==============================] - 3s 53us/step - loss: 0.2551 - acc: 0.9300 - val_loss: 0.2611 - val_acc: 0.9302\n",
      "Epoch 21/50\n",
      "48000/48000 [==============================] - 2s 51us/step - loss: 0.2543 - acc: 0.9308 - val_loss: 0.2596 - val_acc: 0.9315\n",
      "Epoch 22/50\n",
      "48000/48000 [==============================] - 3s 53us/step - loss: 0.2533 - acc: 0.9307 - val_loss: 0.2607 - val_acc: 0.9318\n",
      "Epoch 23/50\n",
      "48000/48000 [==============================] - 2s 52us/step - loss: 0.2531 - acc: 0.9306 - val_loss: 0.2601 - val_acc: 0.9317\n",
      "Epoch 24/50\n",
      "48000/48000 [==============================] - 2s 43us/step - loss: 0.2521 - acc: 0.9311 - val_loss: 0.2608 - val_acc: 0.9306\n",
      "Epoch 25/50\n",
      "48000/48000 [==============================] - 2s 46us/step - loss: 0.2516 - acc: 0.9315 - val_loss: 0.2606 - val_acc: 0.9311\n",
      "Epoch 26/50\n",
      "48000/48000 [==============================] - 2s 50us/step - loss: 0.2511 - acc: 0.9315 - val_loss: 0.2615 - val_acc: 0.9315\n",
      "Epoch 27/50\n",
      "48000/48000 [==============================] - 2s 49us/step - loss: 0.2505 - acc: 0.9321 - val_loss: 0.2644 - val_acc: 0.9310\n",
      "Epoch 28/50\n",
      "48000/48000 [==============================] - 2s 49us/step - loss: 0.2500 - acc: 0.9318 - val_loss: 0.2628 - val_acc: 0.9305\n",
      "Epoch 29/50\n",
      "48000/48000 [==============================] - 2s 49us/step - loss: 0.2496 - acc: 0.9327 - val_loss: 0.2610 - val_acc: 0.9313\n",
      "Epoch 30/50\n",
      "48000/48000 [==============================] - 2s 41us/step - loss: 0.2493 - acc: 0.9323 - val_loss: 0.2627 - val_acc: 0.9313\n",
      "Epoch 31/50\n",
      "48000/48000 [==============================] - 2s 43us/step - loss: 0.2486 - acc: 0.9329 - val_loss: 0.2634 - val_acc: 0.9315\n",
      "Epoch 32/50\n",
      "48000/48000 [==============================] - 2s 45us/step - loss: 0.2482 - acc: 0.9331 - val_loss: 0.2634 - val_acc: 0.9312\n",
      "Epoch 33/50\n",
      "48000/48000 [==============================] - 2s 43us/step - loss: 0.2477 - acc: 0.9326 - val_loss: 0.2624 - val_acc: 0.9312\n",
      "Epoch 34/50\n",
      "48000/48000 [==============================] - 2s 42us/step - loss: 0.2474 - acc: 0.9325 - val_loss: 0.2624 - val_acc: 0.9317\n",
      "Epoch 35/50\n",
      "48000/48000 [==============================] - 2s 42us/step - loss: 0.2471 - acc: 0.9336 - val_loss: 0.2623 - val_acc: 0.9313\n",
      "Epoch 36/50\n",
      "48000/48000 [==============================] - 2s 42us/step - loss: 0.2467 - acc: 0.9333 - val_loss: 0.2626 - val_acc: 0.9326\n",
      "Epoch 37/50\n",
      "48000/48000 [==============================] - 2s 46us/step - loss: 0.2465 - acc: 0.9340 - val_loss: 0.2646 - val_acc: 0.9321\n",
      "Epoch 38/50\n",
      "48000/48000 [==============================] - 2s 44us/step - loss: 0.2464 - acc: 0.9336 - val_loss: 0.2654 - val_acc: 0.9308\n",
      "Epoch 39/50\n",
      "48000/48000 [==============================] - 2s 42us/step - loss: 0.2461 - acc: 0.9338 - val_loss: 0.2644 - val_acc: 0.9317\n",
      "Epoch 40/50\n",
      "48000/48000 [==============================] - 2s 39us/step - loss: 0.2457 - acc: 0.9342 - val_loss: 0.2649 - val_acc: 0.9317\n",
      "Epoch 41/50\n",
      "48000/48000 [==============================] - 2s 40us/step - loss: 0.2454 - acc: 0.9338 - val_loss: 0.2647 - val_acc: 0.9320\n",
      "Epoch 42/50\n",
      "48000/48000 [==============================] - 2s 41us/step - loss: 0.2449 - acc: 0.9343 - val_loss: 0.2637 - val_acc: 0.9322\n",
      "Epoch 43/50\n",
      "48000/48000 [==============================] - 2s 46us/step - loss: 0.2448 - acc: 0.9343 - val_loss: 0.2645 - val_acc: 0.9317\n",
      "Epoch 44/50\n",
      "48000/48000 [==============================] - 2s 42us/step - loss: 0.2445 - acc: 0.9345 - val_loss: 0.2660 - val_acc: 0.9307\n",
      "Epoch 45/50\n",
      "48000/48000 [==============================] - 2s 41us/step - loss: 0.2442 - acc: 0.9343 - val_loss: 0.2647 - val_acc: 0.9317\n",
      "Epoch 46/50\n",
      "48000/48000 [==============================] - 2s 45us/step - loss: 0.2443 - acc: 0.9344 - val_loss: 0.2658 - val_acc: 0.9317\n",
      "Epoch 47/50\n",
      "48000/48000 [==============================] - 2s 44us/step - loss: 0.2441 - acc: 0.9349 - val_loss: 0.2672 - val_acc: 0.9316\n",
      "Epoch 48/50\n",
      "48000/48000 [==============================] - 2s 43us/step - loss: 0.2436 - acc: 0.9347 - val_loss: 0.2656 - val_acc: 0.9315\n",
      "Epoch 49/50\n",
      "48000/48000 [==============================] - 2s 41us/step - loss: 0.2436 - acc: 0.9349 - val_loss: 0.2666 - val_acc: 0.9309\n",
      "Epoch 50/50\n",
      "48000/48000 [==============================] - 2s 42us/step - loss: 0.2429 - acc: 0.9352 - val_loss: 0.2666 - val_acc: 0.9319\n"
     ]
    }
   ],
   "source": [
    "# Compile and train model\n",
    "#optimizer RMSprop()\n",
    "model.compile(loss='categorical_crossentropy',optimizer=RMSprop(),metrics=['accuracy'])\n",
    "history = model.fit(x_train, y_train,batch_size=128,epochs=50,verbose=1, validation_split=0.2)"
   ]
  },
  {
   "cell_type": "code",
   "execution_count": 69,
   "metadata": {},
   "outputs": [
    {
     "name": "stdout",
     "output_type": "stream",
     "text": [
      "10000/10000 [==============================] - 2s 152us/step\n",
      "Test loss: 0.2820394080147147\n",
      "Test accuracy: 92.78\n"
     ]
    }
   ],
   "source": [
    "# Evaluate Model\n",
    "score = model.evaluate(x_test, y_test, verbose=1)\n",
    "print('Test loss:', score[0])\n",
    "print('Test accuracy:', score[1]*100)"
   ]
  },
  {
   "cell_type": "code",
   "execution_count": 70,
   "metadata": {},
   "outputs": [
    {
     "data": {
      "text/plain": [
       "<matplotlib.legend.Legend at 0x28ae91b1278>"
      ]
     },
     "execution_count": 70,
     "metadata": {},
     "output_type": "execute_result"
    },
    {
     "data": {
      "image/png": "[encoded data removed]",
      "text/plain": [
       "<Figure size 576x432 with 1 Axes>"
      ]
     },
     "metadata": {},
     "output_type": "display_data"
    },
    {
     "data": {
      "image/png": "[encoded data removed]",
      "text/plain": [
       "<Figure size 576x432 with 1 Axes>"
      ]
     },
     "metadata": {},
     "output_type": "display_data"
    }
   ],
   "source": [
    "# plot the training loss and accuracy\n",
    "N = np.arange(0, 50)\n",
    "plt.style.use(\"ggplot\")\n",
    "plt.figure(figsize=[8,6])\n",
    "plt.plot(N, history.history[\"loss\"], label=\"train_loss\")\n",
    "plt.plot(N, history.history[\"acc\"], label=\"train_acc\")\n",
    "plt.title(\"Training Loss and Accuracy (Simple NN)\")\n",
    "plt.xlabel(\"Epoch #\")\n",
    "plt.ylabel(\"Loss/Accuracy\")\n",
    "plt.legend()\n",
    "N = np.arange(0, 50)\n",
    "plt.style.use(\"ggplot\")\n",
    "plt.figure(figsize=[8,6])\n",
    "plt.plot(N, history.history[\"val_loss\"], label=\"val_loss\")\n",
    "plt.plot(N, history.history[\"val_acc\"], label=\"val_acc\")\n",
    "plt.title(\"Training Loss and Accuracy (Simple NN)\")\n",
    "plt.xlabel(\"Epoch #\")\n",
    "plt.ylabel(\"Loss/Accuracy\")\n",
    "plt.legend()\n",
    "#plt.savefig(\"F:/simple1_Cnn_lb1.png\")"
   ]
  },
  {
   "cell_type": "markdown",
   "metadata": {},
   "source": [
    "### Optimizer  used as  SGD()"
   ]
  },
  {
   "cell_type": "code",
   "execution_count": 72,
   "metadata": {},
   "outputs": [
    {
     "name": "stdout",
     "output_type": "stream",
     "text": [
      "Train on 48000 samples, validate on 12000 samples\n",
      "Epoch 1/50\n",
      "48000/48000 [==============================] - 9s 183us/step - loss: 0.2391 - acc: 0.9359 - val_loss: 0.2674 - val_acc: 0.9313\n",
      "Epoch 2/50\n",
      "48000/48000 [==============================] - 3s 70us/step - loss: 0.2386 - acc: 0.9361 - val_loss: 0.2669 - val_acc: 0.9318\n",
      "Epoch 3/50\n",
      "48000/48000 [==============================] - 3s 63us/step - loss: 0.2385 - acc: 0.9363 - val_loss: 0.2667 - val_acc: 0.9322\n",
      "Epoch 4/50\n",
      "48000/48000 [==============================] - 3s 66us/step - loss: 0.2384 - acc: 0.9365 - val_loss: 0.2667 - val_acc: 0.9322\n",
      "Epoch 5/50\n",
      "48000/48000 [==============================] - 3s 66us/step - loss: 0.2384 - acc: 0.9365 - val_loss: 0.2666 - val_acc: 0.9321\n",
      "Epoch 6/50\n",
      "48000/48000 [==============================] - 3s 64us/step - loss: 0.2383 - acc: 0.9364 - val_loss: 0.2666 - val_acc: 0.9317\n",
      "Epoch 7/50\n",
      "48000/48000 [==============================] - 3s 66us/step - loss: 0.2383 - acc: 0.9364 - val_loss: 0.2666 - val_acc: 0.9317\n",
      "Epoch 8/50\n",
      "48000/48000 [==============================] - 4s 75us/step - loss: 0.2382 - acc: 0.9363 - val_loss: 0.2666 - val_acc: 0.9317\n",
      "Epoch 9/50\n",
      "48000/48000 [==============================] - 3s 67us/step - loss: 0.2382 - acc: 0.9367 - val_loss: 0.2665 - val_acc: 0.9318\n",
      "Epoch 10/50\n",
      "48000/48000 [==============================] - 3s 67us/step - loss: 0.2381 - acc: 0.9366 - val_loss: 0.2665 - val_acc: 0.9317\n",
      "Epoch 11/50\n",
      "48000/48000 [==============================] - 3s 61us/step - loss: 0.2381 - acc: 0.9366 - val_loss: 0.2665 - val_acc: 0.9319\n",
      "Epoch 12/50\n",
      "48000/48000 [==============================] - 3s 71us/step - loss: 0.2381 - acc: 0.9365 - val_loss: 0.2664 - val_acc: 0.9319\n",
      "Epoch 13/50\n",
      "48000/48000 [==============================] - 3s 58us/step - loss: 0.2380 - acc: 0.9366 - val_loss: 0.2665 - val_acc: 0.9321\n",
      "Epoch 14/50\n",
      "48000/48000 [==============================] - 3s 69us/step - loss: 0.2380 - acc: 0.9366 - val_loss: 0.2664 - val_acc: 0.9317\n",
      "Epoch 15/50\n",
      "48000/48000 [==============================] - 3s 66us/step - loss: 0.2380 - acc: 0.9366 - val_loss: 0.2664 - val_acc: 0.9317\n",
      "Epoch 16/50\n",
      "48000/48000 [==============================] - 3s 61us/step - loss: 0.2380 - acc: 0.9367 - val_loss: 0.2664 - val_acc: 0.9321\n",
      "Epoch 17/50\n",
      "48000/48000 [==============================] - 3s 65us/step - loss: 0.2379 - acc: 0.9366 - val_loss: 0.2664 - val_acc: 0.9317\n",
      "Epoch 18/50\n",
      "48000/48000 [==============================] - 3s 69us/step - loss: 0.2379 - acc: 0.9365 - val_loss: 0.2663 - val_acc: 0.9317\n",
      "Epoch 19/50\n",
      "48000/48000 [==============================] - 3s 70us/step - loss: 0.2379 - acc: 0.9367 - val_loss: 0.2664 - val_acc: 0.9317\n",
      "Epoch 20/50\n",
      "48000/48000 [==============================] - 3s 67us/step - loss: 0.2379 - acc: 0.9366 - val_loss: 0.2663 - val_acc: 0.9318\n",
      "Epoch 21/50\n",
      "48000/48000 [==============================] - 3s 73us/step - loss: 0.2378 - acc: 0.9364 - val_loss: 0.2663 - val_acc: 0.9319\n",
      "Epoch 22/50\n",
      "48000/48000 [==============================] - 3s 69us/step - loss: 0.2378 - acc: 0.9366 - val_loss: 0.2664 - val_acc: 0.9318\n",
      "Epoch 23/50\n",
      "48000/48000 [==============================] - 3s 71us/step - loss: 0.2378 - acc: 0.9364 - val_loss: 0.2663 - val_acc: 0.9322\n",
      "Epoch 24/50\n",
      "48000/48000 [==============================] - 4s 73us/step - loss: 0.2377 - acc: 0.9367 - val_loss: 0.2663 - val_acc: 0.9313\n",
      "Epoch 25/50\n",
      "48000/48000 [==============================] - 3s 70us/step - loss: 0.2377 - acc: 0.9364 - val_loss: 0.2663 - val_acc: 0.9320\n",
      "Epoch 26/50\n",
      "48000/48000 [==============================] - 3s 71us/step - loss: 0.2377 - acc: 0.9365 - val_loss: 0.2664 - val_acc: 0.9320\n",
      "Epoch 27/50\n",
      "48000/48000 [==============================] - 3s 63us/step - loss: 0.2376 - acc: 0.9366 - val_loss: 0.2663 - val_acc: 0.9319\n",
      "Epoch 28/50\n",
      "48000/48000 [==============================] - 3s 69us/step - loss: 0.2377 - acc: 0.9368 - val_loss: 0.2663 - val_acc: 0.9317\n",
      "Epoch 29/50\n",
      "48000/48000 [==============================] - 3s 66us/step - loss: 0.2376 - acc: 0.9363 - val_loss: 0.2663 - val_acc: 0.9320\n",
      "Epoch 30/50\n",
      "48000/48000 [==============================] - 3s 61us/step - loss: 0.2376 - acc: 0.9364 - val_loss: 0.2663 - val_acc: 0.9317\n",
      "Epoch 31/50\n",
      "48000/48000 [==============================] - 4s 73us/step - loss: 0.2376 - acc: 0.9365 - val_loss: 0.2662 - val_acc: 0.9317\n",
      "Epoch 32/50\n",
      "48000/48000 [==============================] - 3s 64us/step - loss: 0.2375 - acc: 0.9366 - val_loss: 0.2662 - val_acc: 0.9321\n",
      "Epoch 33/50\n",
      "48000/48000 [==============================] - 3s 59us/step - loss: 0.2375 - acc: 0.9366 - val_loss: 0.2663 - val_acc: 0.9318\n",
      "Epoch 34/50\n",
      "48000/48000 [==============================] - 3s 68us/step - loss: 0.2375 - acc: 0.9365 - val_loss: 0.2663 - val_acc: 0.9314\n",
      "Epoch 35/50\n",
      "48000/48000 [==============================] - 3s 58us/step - loss: 0.2375 - acc: 0.9367 - val_loss: 0.2662 - val_acc: 0.9314\n",
      "Epoch 36/50\n",
      "48000/48000 [==============================] - 3s 65us/step - loss: 0.2375 - acc: 0.9365 - val_loss: 0.2662 - val_acc: 0.9319\n",
      "Epoch 37/50\n",
      "48000/48000 [==============================] - 3s 65us/step - loss: 0.2374 - acc: 0.9365 - val_loss: 0.2662 - val_acc: 0.9319\n",
      "Epoch 38/50\n",
      "48000/48000 [==============================] - 3s 72us/step - loss: 0.2374 - acc: 0.9365 - val_loss: 0.2662 - val_acc: 0.9316\n",
      "Epoch 39/50\n",
      "48000/48000 [==============================] - 3s 61us/step - loss: 0.2374 - acc: 0.9364 - val_loss: 0.2662 - val_acc: 0.9314\n",
      "Epoch 40/50\n",
      "48000/48000 [==============================] - 3s 66us/step - loss: 0.2374 - acc: 0.9366 - val_loss: 0.2662 - val_acc: 0.9318\n",
      "Epoch 41/50\n",
      "48000/48000 [==============================] - 3s 68us/step - loss: 0.2374 - acc: 0.9366 - val_loss: 0.2661 - val_acc: 0.9317\n",
      "Epoch 42/50\n",
      "48000/48000 [==============================] - 3s 69us/step - loss: 0.2373 - acc: 0.9365 - val_loss: 0.2662 - val_acc: 0.9317\n",
      "Epoch 43/50\n",
      "48000/48000 [==============================] - 3s 61us/step - loss: 0.2373 - acc: 0.9367 - val_loss: 0.2662 - val_acc: 0.9312\n",
      "Epoch 44/50\n",
      "48000/48000 [==============================] - 3s 65us/step - loss: 0.2373 - acc: 0.9365 - val_loss: 0.2661 - val_acc: 0.9313\n",
      "Epoch 45/50\n",
      "48000/48000 [==============================] - 3s 68us/step - loss: 0.2373 - acc: 0.9365 - val_loss: 0.2661 - val_acc: 0.9312\n",
      "Epoch 46/50\n",
      "48000/48000 [==============================] - 3s 59us/step - loss: 0.2372 - acc: 0.9366 - val_loss: 0.2661 - val_acc: 0.9312\n",
      "Epoch 47/50\n",
      "48000/48000 [==============================] - 4s 73us/step - loss: 0.2372 - acc: 0.9365 - val_loss: 0.2661 - val_acc: 0.9310\n",
      "Epoch 48/50\n",
      "48000/48000 [==============================] - 3s 70us/step - loss: 0.2372 - acc: 0.9366 - val_loss: 0.2661 - val_acc: 0.9313\n",
      "Epoch 49/50\n",
      "48000/48000 [==============================] - 3s 64us/step - loss: 0.2372 - acc: 0.9366 - val_loss: 0.2661 - val_acc: 0.9313\n",
      "Epoch 50/50\n",
      "48000/48000 [==============================] - 3s 62us/step - loss: 0.2371 - acc: 0.9368 - val_loss: 0.2662 - val_acc: 0.9315\n"
     ]
    }
   ],
   "source": [
    "# Compile and train model\n",
    "#optimizer SGD() \n",
    "model.compile(loss='categorical_crossentropy',optimizer=SGD(),metrics=['accuracy'])\n",
    "history1 = model.fit(x_train, y_train,batch_size=128,epochs=50,verbose=1, validation_split=0.2)"
   ]
  },
  {
   "cell_type": "code",
   "execution_count": 73,
   "metadata": {},
   "outputs": [
    {
     "name": "stdout",
     "output_type": "stream",
     "text": [
      "10000/10000 [==============================] - 1s 108us/step\n",
      "Test loss: 0.27867629822790624\n",
      "Test accuracy: 92.83\n"
     ]
    }
   ],
   "source": [
    "# Evaluate Model\n",
    "score = model.evaluate(x_test, y_test, verbose=1)\n",
    "print('Test loss:', score[0])\n",
    "print('Test accuracy:', score[1]*100)"
   ]
  },
  {
   "cell_type": "code",
   "execution_count": 74,
   "metadata": {},
   "outputs": [
    {
     "data": {
      "text/plain": [
       "Text(0.5, 1.0, 'Loss Curves')"
      ]
     },
     "execution_count": 74,
     "metadata": {},
     "output_type": "execute_result"
    },
    {
     "data": {
      "image/png": "[encoded data removed]",
      "text/plain": [
       "<Figure size 576x432 with 1 Axes>"
      ]
     },
     "metadata": {},
     "output_type": "display_data"
    }
   ],
   "source": [
    "# Plot graph traning loss vs Validation loss \n",
    "plt.figure(figsize=[8,6])\n",
    "plt.plot(history1.history['loss'],'r',linewidth=3.0)\n",
    "plt.plot(history1.history['val_loss'],'b',linewidth=3.0)\n",
    "plt.legend(['Training loss', 'Validation Loss'],fontsize=18)\n",
    "plt.xlabel('Epochs ',fontsize=16)\n",
    "plt.ylabel('Loss',fontsize=16)\n",
    "plt.title('Loss Curves',fontsize=16)\n",
    "#plt.savefig(\"F:/simple1_Cnn_lb1.png\")"
   ]
  },
  {
   "cell_type": "code",
   "execution_count": 75,
   "metadata": {},
   "outputs": [
    {
     "data": {
      "text/plain": [
       "Text(0.5, 1.0, 'Accuracy Curves')"
      ]
     },
     "execution_count": 75,
     "metadata": {},
     "output_type": "execute_result"
    },
    {
     "data": {
      "image/png": "[encoded data removed]",
      "text/plain": [
       "<Figure size 576x432 with 1 Axes>"
      ]
     },
     "metadata": {},
     "output_type": "display_data"
    }
   ],
   "source": [
    "# Plot graph traning Acc vs Validation acc\n",
    "plt.figure(figsize=[8,6])\n",
    "plt.plot(history1.history['acc'],'r',linewidth=3.0)\n",
    "plt.plot(history1.history['val_acc'],'b',linewidth=3.0)\n",
    "plt.legend(['Training Accuracy', 'Validation Accuracy'],fontsize=18)\n",
    "plt.xlabel('Epochs ',fontsize=16)\n",
    "plt.ylabel('Accuracy',fontsize=16)\n",
    "plt.title('Accuracy Curves',fontsize=16)"
   ]
  },
  {
   "cell_type": "markdown",
   "metadata": {},
   "source": [
    "# 4. Example 3: Simple NN with hidden layers to train MNIST"
   ]
  },
  {
   "cell_type": "code",
   "execution_count": 77,
   "metadata": {},
   "outputs": [
    {
     "name": "stdout",
     "output_type": "stream",
     "text": [
      "_________________________________________________________________\n",
      "Layer (type)                 Output Shape              Param #   \n",
      "=================================================================\n",
      "dense_23 (Dense)             (None, 512)               401920    \n",
      "_________________________________________________________________\n",
      "dense_24 (Dense)             (None, 128)               65664     \n",
      "_________________________________________________________________\n",
      "dense_25 (Dense)             (None, 10)                1290      \n",
      "=================================================================\n",
      "Total params: 468,874\n",
      "Trainable params: 468,874\n",
      "Non-trainable params: 0\n",
      "_________________________________________________________________\n"
     ]
    }
   ],
   "source": [
    "#Define Model1\n",
    "model1 = Sequential()\n",
    "model1.add(Dense(512, activation='relu', input_shape=(784,)))\n",
    "model1.add(Dense(128, activation='relu'))\n",
    "model1.add(Dense(10, activation='softmax'))\n",
    "model1.summary()\n",
    "plot_model(model1,to_file='C:/Users/pchak/Desktop/MNISTDemo/MLPMNIST.png', show_shapes=True, show_layer_names=True)"
   ]
  },
  {
   "cell_type": "code",
   "execution_count": 78,
   "metadata": {},
   "outputs": [
    {
     "name": "stdout",
     "output_type": "stream",
     "text": [
      "Train on 48000 samples, validate on 12000 samples\n",
      "Epoch 1/150\n",
      "48000/48000 [==============================] - 10s 206us/step - loss: 0.2680 - acc: 0.9190 - val_loss: 0.1216 - val_acc: 0.9642\n",
      "Epoch 2/150\n",
      "48000/48000 [==============================] - 4s 83us/step - loss: 0.0986 - acc: 0.9693 - val_loss: 0.1021 - val_acc: 0.9708\n",
      "Epoch 3/150\n",
      "48000/48000 [==============================] - 4s 82us/step - loss: 0.0611 - acc: 0.9812 - val_loss: 0.1261 - val_acc: 0.9622\n",
      "Epoch 4/150\n",
      "48000/48000 [==============================] - 4s 88us/step - loss: 0.0440 - acc: 0.9861 - val_loss: 0.0945 - val_acc: 0.9734\n",
      "Epoch 5/150\n",
      "48000/48000 [==============================] - 4s 82us/step - loss: 0.0320 - acc: 0.9897 - val_loss: 0.1011 - val_acc: 0.9734\n",
      "Epoch 6/150\n",
      "48000/48000 [==============================] - 4s 86us/step - loss: 0.0236 - acc: 0.9926 - val_loss: 0.0998 - val_acc: 0.9763\n",
      "Epoch 7/150\n",
      "48000/48000 [==============================] - 4s 90us/step - loss: 0.0175 - acc: 0.9942 - val_loss: 0.1074 - val_acc: 0.9755\n",
      "Epoch 8/150\n",
      "48000/48000 [==============================] - 4s 81us/step - loss: 0.0130 - acc: 0.9959 - val_loss: 0.1187 - val_acc: 0.9754\n",
      "Epoch 9/150\n",
      "48000/48000 [==============================] - 4s 89us/step - loss: 0.0110 - acc: 0.9962 - val_loss: 0.1181 - val_acc: 0.9750\n",
      "Epoch 10/150\n",
      "48000/48000 [==============================] - 4s 87us/step - loss: 0.0089 - acc: 0.9975 - val_loss: 0.1099 - val_acc: 0.9796\n",
      "Epoch 11/150\n",
      "48000/48000 [==============================] - 4s 86us/step - loss: 0.0077 - acc: 0.9974 - val_loss: 0.1109 - val_acc: 0.9793\n",
      "Epoch 12/150\n",
      "48000/48000 [==============================] - 4s 82us/step - loss: 0.0062 - acc: 0.9980 - val_loss: 0.1216 - val_acc: 0.9798\n",
      "Epoch 13/150\n",
      "48000/48000 [==============================] - 4s 82us/step - loss: 0.0052 - acc: 0.9982 - val_loss: 0.1331 - val_acc: 0.9778\n",
      "Epoch 14/150\n",
      "48000/48000 [==============================] - 4s 84us/step - loss: 0.0054 - acc: 0.9981 - val_loss: 0.1308 - val_acc: 0.9800\n",
      "Epoch 15/150\n",
      "48000/48000 [==============================] - 4s 78us/step - loss: 0.0042 - acc: 0.9987 - val_loss: 0.1391 - val_acc: 0.9782\n",
      "Epoch 16/150\n",
      "48000/48000 [==============================] - 4s 82us/step - loss: 0.0042 - acc: 0.9987 - val_loss: 0.1349 - val_acc: 0.9788\n",
      "Epoch 17/150\n",
      "48000/48000 [==============================] - 4s 85us/step - loss: 0.0032 - acc: 0.9989 - val_loss: 0.1451 - val_acc: 0.9798\n",
      "Epoch 18/150\n",
      "48000/48000 [==============================] - 4s 87us/step - loss: 0.0036 - acc: 0.9988 - val_loss: 0.1375 - val_acc: 0.9805\n",
      "Epoch 19/150\n",
      "48000/48000 [==============================] - 4s 84us/step - loss: 0.0033 - acc: 0.9990 - val_loss: 0.1720 - val_acc: 0.9765\n",
      "Epoch 20/150\n",
      "48000/48000 [==============================] - 4s 84us/step - loss: 0.0033 - acc: 0.9990 - val_loss: 0.1696 - val_acc: 0.9792\n",
      "Epoch 21/150\n",
      "48000/48000 [==============================] - 4s 84us/step - loss: 0.0032 - acc: 0.9990 - val_loss: 0.1513 - val_acc: 0.9802\n",
      "Epoch 22/150\n",
      "48000/48000 [==============================] - 4s 83us/step - loss: 0.0026 - acc: 0.9993 - val_loss: 0.1589 - val_acc: 0.9797\n",
      "Epoch 23/150\n",
      "48000/48000 [==============================] - 4s 88us/step - loss: 0.0028 - acc: 0.9992 - val_loss: 0.1564 - val_acc: 0.9805\n",
      "Epoch 24/150\n",
      "48000/48000 [==============================] - 4s 80us/step - loss: 0.0020 - acc: 0.9994 - val_loss: 0.1628 - val_acc: 0.9792\n",
      "Epoch 25/150\n",
      "48000/48000 [==============================] - 4s 88us/step - loss: 0.0019 - acc: 0.9993 - val_loss: 0.1554 - val_acc: 0.9808\n",
      "Epoch 26/150\n",
      "48000/48000 [==============================] - 4s 85us/step - loss: 0.0024 - acc: 0.9993 - val_loss: 0.1580 - val_acc: 0.9802\n",
      "Epoch 27/150\n",
      "48000/48000 [==============================] - 4s 80us/step - loss: 0.0021 - acc: 0.9995 - val_loss: 0.1632 - val_acc: 0.9798\n",
      "Epoch 28/150\n",
      "48000/48000 [==============================] - 4s 83us/step - loss: 0.0015 - acc: 0.9995 - val_loss: 0.1755 - val_acc: 0.9796\n",
      "Epoch 29/150\n",
      "48000/48000 [==============================] - 4s 87us/step - loss: 0.0024 - acc: 0.9993 - val_loss: 0.1821 - val_acc: 0.9773\n",
      "Epoch 30/150\n",
      "48000/48000 [==============================] - 4s 82us/step - loss: 0.0016 - acc: 0.9995 - val_loss: 0.1730 - val_acc: 0.9807\n",
      "Epoch 31/150\n",
      "48000/48000 [==============================] - 4s 86us/step - loss: 0.0020 - acc: 0.9994 - val_loss: 0.1662 - val_acc: 0.9810\n",
      "Epoch 32/150\n",
      "48000/48000 [==============================] - 4s 85us/step - loss: 0.0016 - acc: 0.9995 - val_loss: 0.1826 - val_acc: 0.9782\n",
      "Epoch 33/150\n",
      "48000/48000 [==============================] - 4s 84us/step - loss: 0.0016 - acc: 0.9995 - val_loss: 0.1740 - val_acc: 0.9802\n",
      "Epoch 34/150\n",
      "48000/48000 [==============================] - 4s 89us/step - loss: 0.0020 - acc: 0.9994 - val_loss: 0.1740 - val_acc: 0.9807\n",
      "Epoch 35/150\n",
      "48000/48000 [==============================] - 4s 86us/step - loss: 0.0015 - acc: 0.9995 - val_loss: 0.1806 - val_acc: 0.9802\n",
      "Epoch 36/150\n",
      "48000/48000 [==============================] - 4s 89us/step - loss: 0.0019 - acc: 0.9995 - val_loss: 0.1820 - val_acc: 0.9796\n",
      "Epoch 37/150\n",
      "48000/48000 [==============================] - 4s 82us/step - loss: 0.0017 - acc: 0.9996 - val_loss: 0.1781 - val_acc: 0.9804\n",
      "Epoch 38/150\n",
      "48000/48000 [==============================] - 4s 86us/step - loss: 0.0015 - acc: 0.9997 - val_loss: 0.1756 - val_acc: 0.9811\n",
      "Epoch 39/150\n",
      "48000/48000 [==============================] - 4s 84us/step - loss: 0.0018 - acc: 0.9995 - val_loss: 0.1916 - val_acc: 0.9792\n",
      "Epoch 40/150\n",
      "48000/48000 [==============================] - 4s 84us/step - loss: 0.0014 - acc: 0.9996 - val_loss: 0.1742 - val_acc: 0.9812\n",
      "Epoch 41/150\n",
      "48000/48000 [==============================] - 4s 75us/step - loss: 0.0012 - acc: 0.9998 - val_loss: 0.1815 - val_acc: 0.9804\n",
      "Epoch 42/150\n",
      "48000/48000 [==============================] - 4s 81us/step - loss: 6.2171e-04 - acc: 0.9998 - val_loss: 0.1793 - val_acc: 0.9818\n",
      "Epoch 43/150\n",
      "48000/48000 [==============================] - 4s 78us/step - loss: 0.0013 - acc: 0.9996 - val_loss: 0.1785 - val_acc: 0.9822\n",
      "Epoch 44/150\n",
      "48000/48000 [==============================] - 4s 85us/step - loss: 0.0015 - acc: 0.9997 - val_loss: 0.2082 - val_acc: 0.9778\n",
      "Epoch 45/150\n",
      "48000/48000 [==============================] - 4s 76us/step - loss: 8.9974e-04 - acc: 0.9996 - val_loss: 0.1861 - val_acc: 0.9808\n",
      "Epoch 46/150\n",
      "48000/48000 [==============================] - 4s 76us/step - loss: 0.0019 - acc: 0.9995 - val_loss: 0.1841 - val_acc: 0.9814\n",
      "Epoch 47/150\n",
      "48000/48000 [==============================] - 4s 77us/step - loss: 0.0016 - acc: 0.9996 - val_loss: 0.1798 - val_acc: 0.9807\n",
      "Epoch 48/150\n",
      "48000/48000 [==============================] - 4s 77us/step - loss: 6.9100e-04 - acc: 0.9998 - val_loss: 0.1854 - val_acc: 0.9809\n",
      "Epoch 49/150\n",
      "48000/48000 [==============================] - 4s 79us/step - loss: 0.0019 - acc: 0.9996 - val_loss: 0.1984 - val_acc: 0.9803\n",
      "Epoch 50/150\n",
      "48000/48000 [==============================] - 4s 78us/step - loss: 0.0019 - acc: 0.9996 - val_loss: 0.1990 - val_acc: 0.9803\n",
      "Epoch 51/150\n",
      "48000/48000 [==============================] - 4s 90us/step - loss: 0.0019 - acc: 0.9995 - val_loss: 0.2108 - val_acc: 0.9786\n",
      "Epoch 52/150\n",
      "48000/48000 [==============================] - 4s 89us/step - loss: 0.0017 - acc: 0.9996 - val_loss: 0.2167 - val_acc: 0.9787\n",
      "Epoch 53/150\n",
      "48000/48000 [==============================] - 3s 58us/step - loss: 4.6615e-04 - acc: 0.9998 - val_loss: 0.1945 - val_acc: 0.9804\n",
      "Epoch 54/150\n",
      "48000/48000 [==============================] - 3s 58us/step - loss: 0.0017 - acc: 0.9997 - val_loss: 0.2146 - val_acc: 0.9788\n",
      "Epoch 55/150\n",
      "48000/48000 [==============================] - 3s 57us/step - loss: 0.0017 - acc: 0.9996 - val_loss: 0.1942 - val_acc: 0.9810\n",
      "Epoch 56/150\n",
      "48000/48000 [==============================] - 3s 58us/step - loss: 7.1366e-04 - acc: 0.9999 - val_loss: 0.1924 - val_acc: 0.9807\n",
      "Epoch 57/150\n",
      "48000/48000 [==============================] - 3s 58us/step - loss: 3.1602e-04 - acc: 0.9999 - val_loss: 0.1826 - val_acc: 0.9817\n",
      "Epoch 58/150\n",
      "48000/48000 [==============================] - 3s 58us/step - loss: 0.0012 - acc: 0.9997 - val_loss: 0.1828 - val_acc: 0.9826\n",
      "Epoch 59/150\n",
      "48000/48000 [==============================] - 3s 58us/step - loss: 8.8365e-04 - acc: 0.9998 - val_loss: 0.1918 - val_acc: 0.9798\n",
      "Epoch 60/150\n",
      "48000/48000 [==============================] - 3s 61us/step - loss: 0.0014 - acc: 0.9997 - val_loss: 0.1932 - val_acc: 0.9813\n",
      "Epoch 61/150\n",
      "48000/48000 [==============================] - 3s 61us/step - loss: 7.0858e-04 - acc: 0.9999 - val_loss: 0.1988 - val_acc: 0.9816\n",
      "Epoch 62/150\n",
      "48000/48000 [==============================] - 3s 63us/step - loss: 5.2660e-04 - acc: 0.9999 - val_loss: 0.2086 - val_acc: 0.9797\n",
      "Epoch 63/150\n",
      "48000/48000 [==============================] - 3s 67us/step - loss: 0.0012 - acc: 0.9998 - val_loss: 0.2214 - val_acc: 0.9795\n",
      "Epoch 64/150\n",
      "48000/48000 [==============================] - 3s 59us/step - loss: 5.8869e-04 - acc: 0.9998 - val_loss: 0.2017 - val_acc: 0.9801\n",
      "Epoch 65/150\n",
      "48000/48000 [==============================] - 3s 59us/step - loss: 6.5820e-04 - acc: 0.9998 - val_loss: 0.1909 - val_acc: 0.9817\n",
      "Epoch 66/150\n",
      "48000/48000 [==============================] - 3s 61us/step - loss: 3.1604e-04 - acc: 0.9999 - val_loss: 0.1930 - val_acc: 0.9819\n",
      "Epoch 67/150\n",
      "48000/48000 [==============================] - 3s 63us/step - loss: 3.5949e-04 - acc: 0.9999 - val_loss: 0.2045 - val_acc: 0.9813\n",
      "Epoch 68/150\n",
      "48000/48000 [==============================] - 3s 60us/step - loss: 8.0716e-04 - acc: 0.9998 - val_loss: 0.2115 - val_acc: 0.9803\n",
      "Epoch 69/150\n",
      "48000/48000 [==============================] - 3s 62us/step - loss: 0.0021 - acc: 0.9996 - val_loss: 0.1960 - val_acc: 0.9812\n",
      "Epoch 70/150\n",
      "48000/48000 [==============================] - 3s 61us/step - loss: 2.6346e-04 - acc: 0.9999 - val_loss: 0.2009 - val_acc: 0.9815\n",
      "Epoch 71/150\n",
      "48000/48000 [==============================] - 3s 62us/step - loss: 5.5606e-04 - acc: 0.9998 - val_loss: 0.2078 - val_acc: 0.9816\n",
      "Epoch 72/150\n",
      "48000/48000 [==============================] - 3s 67us/step - loss: 6.1167e-04 - acc: 0.9998 - val_loss: 0.2081 - val_acc: 0.9821\n",
      "Epoch 73/150\n",
      "48000/48000 [==============================] - 3s 61us/step - loss: 4.6516e-04 - acc: 0.9999 - val_loss: 0.2098 - val_acc: 0.9808\n",
      "Epoch 74/150\n",
      "48000/48000 [==============================] - 3s 61us/step - loss: 8.9362e-04 - acc: 0.9998 - val_loss: 0.2010 - val_acc: 0.9817\n",
      "Epoch 75/150\n",
      "48000/48000 [==============================] - 3s 59us/step - loss: 4.4746e-06 - acc: 1.0000 - val_loss: 0.1996 - val_acc: 0.9809\n",
      "Epoch 76/150\n",
      "48000/48000 [==============================] - 3s 57us/step - loss: 3.0148e-04 - acc: 1.0000 - val_loss: 0.2011 - val_acc: 0.9802\n",
      "Epoch 77/150\n",
      "48000/48000 [==============================] - 3s 59us/step - loss: 2.7711e-05 - acc: 1.0000 - val_loss: 0.2163 - val_acc: 0.9792\n",
      "Epoch 78/150\n",
      "48000/48000 [==============================] - 3s 59us/step - loss: 1.5491e-04 - acc: 0.9999 - val_loss: 0.2127 - val_acc: 0.9817\n",
      "Epoch 79/150\n",
      "48000/48000 [==============================] - 3s 64us/step - loss: 1.9790e-04 - acc: 0.9999 - val_loss: 0.2062 - val_acc: 0.9807\n",
      "Epoch 80/150\n",
      "48000/48000 [==============================] - 3s 61us/step - loss: 2.9302e-04 - acc: 0.9999 - val_loss: 0.2019 - val_acc: 0.9815\n",
      "Epoch 81/150\n",
      "48000/48000 [==============================] - 3s 64us/step - loss: 6.6921e-05 - acc: 1.0000 - val_loss: 0.1983 - val_acc: 0.9822\n",
      "Epoch 82/150\n",
      "48000/48000 [==============================] - 3s 62us/step - loss: 6.4600e-04 - acc: 0.9999 - val_loss: 0.2055 - val_acc: 0.9812\n",
      "Epoch 83/150\n",
      "48000/48000 [==============================] - 3s 59us/step - loss: 3.2661e-05 - acc: 1.0000 - val_loss: 0.2283 - val_acc: 0.9792\n",
      "Epoch 84/150\n",
      "48000/48000 [==============================] - 3s 59us/step - loss: 1.5145e-04 - acc: 0.9999 - val_loss: 0.2053 - val_acc: 0.9799\n",
      "Epoch 85/150\n",
      "48000/48000 [==============================] - 3s 61us/step - loss: 7.1994e-04 - acc: 0.9999 - val_loss: 0.2028 - val_acc: 0.9806\n",
      "Epoch 86/150\n",
      "48000/48000 [==============================] - 3s 64us/step - loss: 8.7356e-05 - acc: 1.0000 - val_loss: 0.2024 - val_acc: 0.9813\n",
      "Epoch 87/150\n",
      "48000/48000 [==============================] - 3s 68us/step - loss: 1.5082e-04 - acc: 1.0000 - val_loss: 0.2040 - val_acc: 0.9816\n",
      "Epoch 88/150\n",
      "48000/48000 [==============================] - 3s 64us/step - loss: 1.9348e-07 - acc: 1.0000 - val_loss: 0.1996 - val_acc: 0.9816\n",
      "Epoch 89/150\n",
      "48000/48000 [==============================] - 3s 69us/step - loss: 5.5755e-05 - acc: 1.0000 - val_loss: 0.2123 - val_acc: 0.9808\n",
      "Epoch 90/150\n",
      "48000/48000 [==============================] - 3s 66us/step - loss: 8.1464e-05 - acc: 0.9999 - val_loss: 0.2162 - val_acc: 0.9802\n",
      "Epoch 91/150\n",
      "48000/48000 [==============================] - 3s 67us/step - loss: 8.8568e-06 - acc: 1.0000 - val_loss: 0.2158 - val_acc: 0.9806\n",
      "Epoch 92/150\n",
      "48000/48000 [==============================] - 3s 66us/step - loss: 5.3569e-04 - acc: 0.9999 - val_loss: 0.2014 - val_acc: 0.9813\n",
      "Epoch 93/150\n",
      "48000/48000 [==============================] - 3s 62us/step - loss: 4.5269e-04 - acc: 0.9999 - val_loss: 0.2148 - val_acc: 0.9814\n",
      "Epoch 94/150\n",
      "48000/48000 [==============================] - 3s 62us/step - loss: 1.6339e-05 - acc: 1.0000 - val_loss: 0.2084 - val_acc: 0.9813\n",
      "Epoch 95/150\n",
      "48000/48000 [==============================] - 3s 64us/step - loss: 5.4441e-04 - acc: 0.9999 - val_loss: 0.2079 - val_acc: 0.9809\n",
      "Epoch 96/150\n",
      "48000/48000 [==============================] - 3s 66us/step - loss: 1.0745e-04 - acc: 1.0000 - val_loss: 0.2175 - val_acc: 0.9810\n",
      "Epoch 97/150\n",
      "48000/48000 [==============================] - 3s 62us/step - loss: 2.7042e-04 - acc: 1.0000 - val_loss: 0.1990 - val_acc: 0.9818\n",
      "Epoch 98/150\n",
      "48000/48000 [==============================] - 3s 59us/step - loss: 3.9423e-04 - acc: 0.9999 - val_loss: 0.2097 - val_acc: 0.9809\n",
      "Epoch 99/150\n",
      "48000/48000 [==============================] - 3s 61us/step - loss: 1.1257e-04 - acc: 1.0000 - val_loss: 0.2163 - val_acc: 0.9802\n",
      "Epoch 100/150\n",
      "48000/48000 [==============================] - 3s 58us/step - loss: 5.3574e-04 - acc: 0.9999 - val_loss: 0.2065 - val_acc: 0.9809\n",
      "Epoch 101/150\n",
      "48000/48000 [==============================] - 3s 58us/step - loss: 1.5612e-04 - acc: 1.0000 - val_loss: 0.2114 - val_acc: 0.9807\n",
      "Epoch 102/150\n",
      "48000/48000 [==============================] - 3s 64us/step - loss: 4.4372e-04 - acc: 1.0000 - val_loss: 0.2252 - val_acc: 0.9806\n",
      "Epoch 103/150\n",
      "48000/48000 [==============================] - 3s 64us/step - loss: 7.2096e-04 - acc: 0.9999 - val_loss: 0.2195 - val_acc: 0.9807\n",
      "Epoch 104/150\n",
      "48000/48000 [==============================] - 3s 60us/step - loss: 2.9527e-04 - acc: 0.9999 - val_loss: 0.2089 - val_acc: 0.9808\n",
      "Epoch 105/150\n",
      "48000/48000 [==============================] - 3s 58us/step - loss: 2.0641e-04 - acc: 1.0000 - val_loss: 0.2104 - val_acc: 0.9812\n",
      "Epoch 106/150\n",
      "48000/48000 [==============================] - 3s 58us/step - loss: 5.4115e-07 - acc: 1.0000 - val_loss: 0.2078 - val_acc: 0.9809\n",
      "Epoch 107/150\n",
      "48000/48000 [==============================] - 3s 59us/step - loss: 1.1998e-07 - acc: 1.0000 - val_loss: 0.2063 - val_acc: 0.9813\n",
      "Epoch 108/150\n",
      "48000/48000 [==============================] - 3s 58us/step - loss: 1.1921e-07 - acc: 1.0000 - val_loss: 0.2063 - val_acc: 0.9814\n",
      "Epoch 109/150\n",
      "48000/48000 [==============================] - 3s 58us/step - loss: 1.1921e-07 - acc: 1.0000 - val_loss: 0.2064 - val_acc: 0.9812\n",
      "Epoch 110/150\n",
      "48000/48000 [==============================] - 3s 58us/step - loss: 1.1921e-07 - acc: 1.0000 - val_loss: 0.2064 - val_acc: 0.9813\n",
      "Epoch 111/150\n",
      "48000/48000 [==============================] - 3s 58us/step - loss: 1.1921e-07 - acc: 1.0000 - val_loss: 0.2064 - val_acc: 0.9814\n",
      "Epoch 112/150\n",
      "48000/48000 [==============================] - 3s 59us/step - loss: 1.1921e-07 - acc: 1.0000 - val_loss: 0.2064 - val_acc: 0.9814\n",
      "Epoch 113/150\n",
      "48000/48000 [==============================] - 3s 61us/step - loss: 1.1921e-07 - acc: 1.0000 - val_loss: 0.2064 - val_acc: 0.9814\n",
      "Epoch 114/150\n",
      "48000/48000 [==============================] - 3s 59us/step - loss: 1.1921e-07 - acc: 1.0000 - val_loss: 0.2064 - val_acc: 0.9814\n",
      "Epoch 115/150\n",
      "48000/48000 [==============================] - 3s 59us/step - loss: 1.1921e-07 - acc: 1.0000 - val_loss: 0.2064 - val_acc: 0.9814\n",
      "Epoch 116/150\n"
     ]
    },
    {
     "name": "stdout",
     "output_type": "stream",
     "text": [
      "48000/48000 [==============================] - 3s 57us/step - loss: 1.1921e-07 - acc: 1.0000 - val_loss: 0.2064 - val_acc: 0.9814\n",
      "Epoch 117/150\n",
      "48000/48000 [==============================] - 3s 58us/step - loss: 1.1921e-07 - acc: 1.0000 - val_loss: 0.2064 - val_acc: 0.9814\n",
      "Epoch 118/150\n",
      "48000/48000 [==============================] - 3s 58us/step - loss: 1.1921e-07 - acc: 1.0000 - val_loss: 0.2064 - val_acc: 0.9814\n",
      "Epoch 119/150\n",
      "48000/48000 [==============================] - 3s 58us/step - loss: 1.1921e-07 - acc: 1.0000 - val_loss: 0.2064 - val_acc: 0.9814\n",
      "Epoch 120/150\n",
      "48000/48000 [==============================] - 3s 58us/step - loss: 1.1921e-07 - acc: 1.0000 - val_loss: 0.2064 - val_acc: 0.9814\n",
      "Epoch 121/150\n",
      "48000/48000 [==============================] - 3s 59us/step - loss: 1.1921e-07 - acc: 1.0000 - val_loss: 0.2064 - val_acc: 0.9814\n",
      "Epoch 122/150\n",
      "48000/48000 [==============================] - 3s 58us/step - loss: 1.1921e-07 - acc: 1.0000 - val_loss: 0.2064 - val_acc: 0.9814\n",
      "Epoch 123/150\n",
      "48000/48000 [==============================] - 3s 59us/step - loss: 1.1921e-07 - acc: 1.0000 - val_loss: 0.2064 - val_acc: 0.9814\n",
      "Epoch 124/150\n",
      "48000/48000 [==============================] - 3s 58us/step - loss: 1.1921e-07 - acc: 1.0000 - val_loss: 0.2064 - val_acc: 0.9814\n",
      "Epoch 125/150\n",
      "48000/48000 [==============================] - 3s 58us/step - loss: 1.1921e-07 - acc: 1.0000 - val_loss: 0.2064 - val_acc: 0.9814\n",
      "Epoch 126/150\n",
      "48000/48000 [==============================] - 3s 58us/step - loss: 1.1921e-07 - acc: 1.0000 - val_loss: 0.2064 - val_acc: 0.9814\n",
      "Epoch 127/150\n",
      "48000/48000 [==============================] - 3s 57us/step - loss: 1.1921e-07 - acc: 1.0000 - val_loss: 0.2064 - val_acc: 0.9814\n",
      "Epoch 128/150\n",
      "48000/48000 [==============================] - 3s 59us/step - loss: 1.1921e-07 - acc: 1.0000 - val_loss: 0.2064 - val_acc: 0.9814\n",
      "Epoch 129/150\n",
      "48000/48000 [==============================] - 3s 58us/step - loss: 1.1921e-07 - acc: 1.0000 - val_loss: 0.2064 - val_acc: 0.9814\n",
      "Epoch 130/150\n",
      "48000/48000 [==============================] - 3s 59us/step - loss: 1.1921e-07 - acc: 1.0000 - val_loss: 0.2064 - val_acc: 0.9814\n",
      "Epoch 131/150\n",
      "48000/48000 [==============================] - 3s 57us/step - loss: 1.1921e-07 - acc: 1.0000 - val_loss: 0.2064 - val_acc: 0.9814\n",
      "Epoch 132/150\n",
      "48000/48000 [==============================] - 3s 57us/step - loss: 1.1921e-07 - acc: 1.0000 - val_loss: 0.2064 - val_acc: 0.9814\n",
      "Epoch 133/150\n",
      "48000/48000 [==============================] - 3s 58us/step - loss: 1.1921e-07 - acc: 1.0000 - val_loss: 0.2064 - val_acc: 0.9814\n",
      "Epoch 134/150\n",
      "48000/48000 [==============================] - 3s 58us/step - loss: 1.1921e-07 - acc: 1.0000 - val_loss: 0.2064 - val_acc: 0.9814\n",
      "Epoch 135/150\n",
      "48000/48000 [==============================] - 3s 58us/step - loss: 1.1921e-07 - acc: 1.0000 - val_loss: 0.2064 - val_acc: 0.9814\n",
      "Epoch 136/150\n",
      "48000/48000 [==============================] - 3s 58us/step - loss: 1.1921e-07 - acc: 1.0000 - val_loss: 0.2064 - val_acc: 0.9814\n",
      "Epoch 137/150\n",
      "48000/48000 [==============================] - 3s 58us/step - loss: 1.1921e-07 - acc: 1.0000 - val_loss: 0.2064 - val_acc: 0.9814\n",
      "Epoch 138/150\n",
      "48000/48000 [==============================] - 3s 57us/step - loss: 1.1921e-07 - acc: 1.0000 - val_loss: 0.2064 - val_acc: 0.9814\n",
      "Epoch 139/150\n",
      "48000/48000 [==============================] - 3s 57us/step - loss: 1.1921e-07 - acc: 1.0000 - val_loss: 0.2064 - val_acc: 0.9814\n",
      "Epoch 140/150\n",
      "48000/48000 [==============================] - 3s 58us/step - loss: 1.1921e-07 - acc: 1.0000 - val_loss: 0.2064 - val_acc: 0.9814\n",
      "Epoch 141/150\n",
      "48000/48000 [==============================] - 3s 59us/step - loss: 1.1921e-07 - acc: 1.0000 - val_loss: 0.2064 - val_acc: 0.9814\n",
      "Epoch 142/150\n",
      "48000/48000 [==============================] - 3s 59us/step - loss: 1.1921e-07 - acc: 1.0000 - val_loss: 0.2064 - val_acc: 0.9814\n",
      "Epoch 143/150\n",
      "48000/48000 [==============================] - 3s 58us/step - loss: 1.1921e-07 - acc: 1.0000 - val_loss: 0.2064 - val_acc: 0.9814\n",
      "Epoch 144/150\n",
      "48000/48000 [==============================] - 3s 58us/step - loss: 1.1921e-07 - acc: 1.0000 - val_loss: 0.2064 - val_acc: 0.9814\n",
      "Epoch 145/150\n",
      "48000/48000 [==============================] - 3s 58us/step - loss: 1.1921e-07 - acc: 1.0000 - val_loss: 0.2064 - val_acc: 0.9814\n",
      "Epoch 146/150\n",
      "48000/48000 [==============================] - 3s 63us/step - loss: 1.1921e-07 - acc: 1.0000 - val_loss: 0.2064 - val_acc: 0.9814\n",
      "Epoch 147/150\n",
      "48000/48000 [==============================] - 3s 59us/step - loss: 1.1921e-07 - acc: 1.0000 - val_loss: 0.2064 - val_acc: 0.9814\n",
      "Epoch 148/150\n",
      "48000/48000 [==============================] - 3s 65us/step - loss: 1.1921e-07 - acc: 1.0000 - val_loss: 0.2064 - val_acc: 0.9814\n",
      "Epoch 149/150\n",
      "48000/48000 [==============================] - 3s 63us/step - loss: 1.1921e-07 - acc: 1.0000 - val_loss: 0.2064 - val_acc: 0.9814\n",
      "Epoch 150/150\n",
      "48000/48000 [==============================] - 3s 60us/step - loss: 1.1921e-07 - acc: 1.0000 - val_loss: 0.2064 - val_acc: 0.9814\n"
     ]
    }
   ],
   "source": [
    "# Compile and train model\n",
    "#optimizer SGD() or RMSprop()\n",
    "model1.compile(loss='categorical_crossentropy',optimizer=RMSprop(),metrics=['accuracy'])\n",
    "history2 = model1.fit(x_train, y_train,batch_size=128,epochs=150,verbose=1, validation_split=0.2)"
   ]
  },
  {
   "cell_type": "code",
   "execution_count": 84,
   "metadata": {},
   "outputs": [
    {
     "name": "stdout",
     "output_type": "stream",
     "text": [
      "10000/10000 [==============================] - 1s 100us/step\n",
      "Test loss: 0.1860058149049384\n",
      "Test accuracy: 98.27\n",
      "Saved model to disk\n"
     ]
    }
   ],
   "source": [
    "# Evaluate Model\n",
    "score = model1.evaluate(x_test, y_test, verbose=1)\n",
    "print('Test loss:', score[0])\n",
    "print('Test accuracy:', score[1]*100)\n",
    "# serialize weights to HDF5\n",
    "model1.save(\"C:/Users/pchak/Desktop/MNISTDemo/NN98.27TrainedModel.h5\")\n",
    "print(\"Saved model to disk\")"
   ]
  },
  {
   "cell_type": "code",
   "execution_count": 85,
   "metadata": {},
   "outputs": [
    {
     "name": "stdout",
     "output_type": "stream",
     "text": [
      "Loaded model from disk\n"
     ]
    }
   ],
   "source": [
    "# load weights into new model\n",
    "from keras.models import load_model\n",
    "loded_model=load_model(\"C:/Users/pchak/Desktop/MNISTDemo/NN98.27TrainedModel.h5\")\n",
    "print(\"Loaded model from disk\")\n"
   ]
  },
  {
   "cell_type": "code",
   "execution_count": 86,
   "metadata": {},
   "outputs": [
    {
     "name": "stdout",
     "output_type": "stream",
     "text": [
      "Predicted value is:9\n"
     ]
    },
    {
     "data": {
      "image/png": "[encoded data removed]",
      "text/plain": [
       "<Figure size 432x288 with 1 Axes>"
      ]
     },
     "metadata": {},
     "output_type": "display_data"
    }
   ],
   "source": [
    "#testing model 1 \n",
    "image_index = 8663\n",
    "plt.imshow(x_test[image_index].reshape(28, 28),cmap='Greys')\n",
    "\n",
    "pred = loded_model.predict(x_test[image_index].reshape(1,784))\n",
    "\n",
    "print(\"Predicted value is:{0}\".format(pred.argmax()))"
   ]
  },
  {
   "cell_type": "markdown",
   "metadata": {},
   "source": [
    "# 5. Example 4: NN with hidden layers with dropout to train MNIST"
   ]
  },
  {
   "cell_type": "code",
   "execution_count": 87,
   "metadata": {},
   "outputs": [
    {
     "name": "stdout",
     "output_type": "stream",
     "text": [
      "_________________________________________________________________\n",
      "Layer (type)                 Output Shape              Param #   \n",
      "=================================================================\n",
      "dense_26 (Dense)             (None, 512)               401920    \n",
      "_________________________________________________________________\n",
      "dropout_19 (Dropout)         (None, 512)               0         \n",
      "_________________________________________________________________\n",
      "dense_27 (Dense)             (None, 512)               262656    \n",
      "_________________________________________________________________\n",
      "dropout_20 (Dropout)         (None, 512)               0         \n",
      "_________________________________________________________________\n",
      "dense_28 (Dense)             (None, 10)                5130      \n",
      "=================================================================\n",
      "Total params: 669,706\n",
      "Trainable params: 669,706\n",
      "Non-trainable params: 0\n",
      "_________________________________________________________________\n"
     ]
    }
   ],
   "source": [
    "#Define Model\n",
    "model2 = Sequential()\n",
    "model2.add(Dense(512, activation='relu', input_shape=(784,)))\n",
    "model2.add(Dropout(0.2))\n",
    "model2.add(Dense(512, activation='relu'))\n",
    "model2.add(Dropout(0.2))\n",
    "model2.add(Dense(10, activation='softmax'))\n",
    "model2.summary()\n",
    "plot_model(model2,to_file='C:/Users/pchak/Desktop/MNISTDemo/MLPDropMNIST.png', show_shapes=True, show_layer_names=True)"
   ]
  },
  {
   "cell_type": "code",
   "execution_count": 99,
   "metadata": {},
   "outputs": [
    {
     "name": "stdout",
     "output_type": "stream",
     "text": [
      "Train on 60000 samples, validate on 10000 samples\n",
      "Epoch 1/20\n",
      "60000/60000 [==============================] - 6s 92us/step - loss: 0.0188 - acc: 0.9952 - val_loss: 0.1108 - val_acc: 0.9848\n",
      "Epoch 2/20\n",
      "60000/60000 [==============================] - 3s 45us/step - loss: 0.0167 - acc: 0.9959 - val_loss: 0.1061 - val_acc: 0.9844\n",
      "Epoch 3/20\n",
      "60000/60000 [==============================] - 3s 44us/step - loss: 0.0170 - acc: 0.9957 - val_loss: 0.1149 - val_acc: 0.9834\n",
      "Epoch 4/20\n",
      "60000/60000 [==============================] - 3s 45us/step - loss: 0.0147 - acc: 0.9963 - val_loss: 0.1251 - val_acc: 0.9833\n",
      "Epoch 5/20\n",
      "60000/60000 [==============================] - 3s 46us/step - loss: 0.0157 - acc: 0.9963 - val_loss: 0.1039 - val_acc: 0.9847\n",
      "Epoch 6/20\n",
      "60000/60000 [==============================] - 3s 48us/step - loss: 0.0155 - acc: 0.9964 - val_loss: 0.1210 - val_acc: 0.9818\n",
      "Epoch 7/20\n",
      "60000/60000 [==============================] - 3s 48us/step - loss: 0.0136 - acc: 0.9969 - val_loss: 0.1386 - val_acc: 0.9822\n",
      "Epoch 8/20\n",
      "60000/60000 [==============================] - 3s 48us/step - loss: 0.0157 - acc: 0.9964 - val_loss: 0.1289 - val_acc: 0.9830\n",
      "Epoch 9/20\n",
      "60000/60000 [==============================] - 3s 46us/step - loss: 0.0154 - acc: 0.9966 - val_loss: 0.1404 - val_acc: 0.9826\n",
      "Epoch 10/20\n",
      "60000/60000 [==============================] - 3s 47us/step - loss: 0.0162 - acc: 0.9964 - val_loss: 0.1179 - val_acc: 0.9832\n",
      "Epoch 11/20\n",
      "60000/60000 [==============================] - 3s 48us/step - loss: 0.0138 - acc: 0.9967 - val_loss: 0.1347 - val_acc: 0.9830\n",
      "Epoch 12/20\n",
      "60000/60000 [==============================] - 3s 48us/step - loss: 0.0146 - acc: 0.9966 - val_loss: 0.1232 - val_acc: 0.9853\n",
      "Epoch 13/20\n",
      "60000/60000 [==============================] - 3s 49us/step - loss: 0.0136 - acc: 0.9971 - val_loss: 0.1278 - val_acc: 0.9826\n",
      "Epoch 14/20\n",
      "60000/60000 [==============================] - 3s 49us/step - loss: 0.0139 - acc: 0.9970 - val_loss: 0.1325 - val_acc: 0.9843\n",
      "Epoch 15/20\n",
      "60000/60000 [==============================] - 3s 49us/step - loss: 0.0137 - acc: 0.9969 - val_loss: 0.1362 - val_acc: 0.9837\n",
      "Epoch 16/20\n",
      "60000/60000 [==============================] - 3s 48us/step - loss: 0.0129 - acc: 0.9968 - val_loss: 0.1302 - val_acc: 0.9847\n",
      "Epoch 17/20\n",
      "60000/60000 [==============================] - 3s 46us/step - loss: 0.0120 - acc: 0.9972 - val_loss: 0.1423 - val_acc: 0.9839\n",
      "Epoch 18/20\n",
      "60000/60000 [==============================] - 3s 48us/step - loss: 0.0145 - acc: 0.9970 - val_loss: 0.1543 - val_acc: 0.9819\n",
      "Epoch 19/20\n",
      "60000/60000 [==============================] - 3s 48us/step - loss: 0.0120 - acc: 0.9971 - val_loss: 0.1450 - val_acc: 0.9832\n",
      "Epoch 20/20\n",
      "60000/60000 [==============================] - 3s 45us/step - loss: 0.0137 - acc: 0.9971 - val_loss: 0.1222 - val_acc: 0.9846\n",
      "Test loss: 0.12221941935396682\n",
      "Test accuracy: 98.46000000000001\n",
      "Saved model to disk\n"
     ]
    }
   ],
   "source": [
    "model2.compile(loss='categorical_crossentropy',optimizer=RMSprop(),metrics=['accuracy'])\n",
    "history3 = model2.fit(x_train, y_train,batch_size=128,epochs=20,verbose=1,validation_data=(x_test, y_test))\n",
    "score = model2.evaluate(x_test, y_test, verbose=0)\n",
    "print('Test loss:', score[0])\n",
    "print('Test accuracy:', score[1]*100)\n",
    "model1.save(\"C:/Users/pchak/Desktop/MNISTDemo/NNDrop98.37TrainedModel.h5\")\n",
    "print(\"Saved model to disk\")"
   ]
  },
  {
   "cell_type": "code",
   "execution_count": 100,
   "metadata": {},
   "outputs": [
    {
     "data": {
      "text/plain": [
       "<matplotlib.legend.Legend at 0x28af17cb128>"
      ]
     },
     "execution_count": 100,
     "metadata": {},
     "output_type": "execute_result"
    },
    {
     "data": {
      "image/png": "[encoded data removed]",
      "text/plain": [
       "<Figure size 432x432 with 1 Axes>"
      ]
     },
     "metadata": {},
     "output_type": "display_data"
    },
    {
     "data": {
      "image/png": "[encoded data removed]",
      "text/plain": [
       "<Figure size 432x432 with 1 Axes>"
      ]
     },
     "metadata": {},
     "output_type": "display_data"
    }
   ],
   "source": [
    "# plot the training loss and accuracy\n",
    "N = np.arange(0, 20)\n",
    "plt.style.use(\"ggplot\")\n",
    "plt.figure(figsize=[6,6])\n",
    "plt.plot(N, history3.history[\"loss\"], label=\"train_loss\")\n",
    "plt.plot(N, history3.history[\"acc\"], label=\"train_acc\")\n",
    "plt.title(\"Training Loss and Accuracy (Simple NN)\")\n",
    "plt.xlabel(\"Epoch #\")\n",
    "plt.ylabel(\"Loss/Accuracy\")\n",
    "plt.legend()\n",
    "N = np.arange(0, 20)\n",
    "plt.style.use(\"ggplot\")\n",
    "plt.figure(figsize=[6,6])\n",
    "plt.plot(N, history3.history[\"val_loss\"], label=\"val_loss\")\n",
    "plt.plot(N, history3.history[\"val_acc\"], label=\"val_acc\")\n",
    "plt.title(\"Training Loss and Accuracy (Simple NN)\")\n",
    "plt.xlabel(\"Epoch #\")\n",
    "plt.ylabel(\"Loss/Accuracy\")\n",
    "plt.legend()\n",
    "#plt.savefig(\"F:/simple1_Cnn_lb1.png\")"
   ]
  },
  {
   "cell_type": "code",
   "execution_count": 101,
   "metadata": {},
   "outputs": [
    {
     "name": "stdout",
     "output_type": "stream",
     "text": [
      "Predicted value is:6\n"
     ]
    },
    {
     "data": {
      "image/png": "[encoded data removed]",
      "text/plain": [
       "<Figure size 432x288 with 1 Axes>"
      ]
     },
     "metadata": {},
     "output_type": "display_data"
    }
   ],
   "source": [
    "#testing model 1 \n",
    "image_index = 886\n",
    "plt.imshow(x_test[image_index].reshape(28, 28),cmap='Greys')\n",
    "\n",
    "pred = model2.predict(x_test[image_index].reshape(1,784))\n",
    "\n",
    "print(\"Predicted value is:{0}\".format(pred.argmax()))\n",
    "\n"
   ]
  },
  {
   "cell_type": "markdown",
   "metadata": {},
   "source": [
    "# 6. Example 5: Using CNN"
   ]
  },
  {
   "cell_type": "code",
   "execution_count": 18,
   "metadata": {},
   "outputs": [
    {
     "name": "stdout",
     "output_type": "stream",
     "text": [
      "x_train shape: (60000, 28, 28, 1)\n",
      "60000 train samples\n",
      "10000 test samples\n",
      "Train on 60000 samples, validate on 10000 samples\n",
      "Epoch 1/15\n",
      "60000/60000 [==============================] - 14s 237us/step - loss: 0.2610 - acc: 0.9200 - val_loss: 0.0543 - val_acc: 0.9814\n",
      "Epoch 2/15\n",
      "60000/60000 [==============================] - 13s 222us/step - loss: 0.0878 - acc: 0.9740 - val_loss: 0.0392 - val_acc: 0.9872\n",
      "Epoch 3/15\n",
      "60000/60000 [==============================] - 13s 211us/step - loss: 0.0662 - acc: 0.9805 - val_loss: 0.0362 - val_acc: 0.9876\n",
      "Epoch 4/15\n",
      "60000/60000 [==============================] - 14s 227us/step - loss: 0.0542 - acc: 0.9836 - val_loss: 0.0359 - val_acc: 0.9879\n",
      "Epoch 5/15\n",
      "60000/60000 [==============================] - 13s 217us/step - loss: 0.0458 - acc: 0.9865 - val_loss: 0.0285 - val_acc: 0.9901\n",
      "Epoch 6/15\n",
      "60000/60000 [==============================] - 15s 244us/step - loss: 0.0392 - acc: 0.9879 - val_loss: 0.0328 - val_acc: 0.9892\n",
      "Epoch 7/15\n",
      "60000/60000 [==============================] - 8s 141us/step - loss: 0.0373 - acc: 0.9886 - val_loss: 0.0292 - val_acc: 0.9902\n",
      "Epoch 8/15\n",
      "60000/60000 [==============================] - 8s 140us/step - loss: 0.0351 - acc: 0.9892 - val_loss: 0.0270 - val_acc: 0.9911\n",
      "Epoch 9/15\n",
      "60000/60000 [==============================] - 8s 140us/step - loss: 0.0327 - acc: 0.9897 - val_loss: 0.0262 - val_acc: 0.9915\n",
      "Epoch 10/15\n",
      "60000/60000 [==============================] - 8s 140us/step - loss: 0.0272 - acc: 0.9915 - val_loss: 0.0262 - val_acc: 0.9914\n",
      "Epoch 11/15\n",
      "60000/60000 [==============================] - 8s 140us/step - loss: 0.0274 - acc: 0.9913 - val_loss: 0.0291 - val_acc: 0.9914\n",
      "Epoch 12/15\n",
      "60000/60000 [==============================] - 8s 140us/step - loss: 0.0249 - acc: 0.9921 - val_loss: 0.0259 - val_acc: 0.9917\n",
      "Epoch 13/15\n",
      "60000/60000 [==============================] - 8s 140us/step - loss: 0.0252 - acc: 0.9923 - val_loss: 0.0280 - val_acc: 0.9918\n",
      "Epoch 14/15\n",
      "60000/60000 [==============================] - 8s 140us/step - loss: 0.0223 - acc: 0.9930 - val_loss: 0.0270 - val_acc: 0.9922\n",
      "Epoch 15/15\n",
      "60000/60000 [==============================] - 8s 140us/step - loss: 0.0227 - acc: 0.9928 - val_loss: 0.0281 - val_acc: 0.9915\n",
      "Test loss: 0.0281078397619131\n",
      "Test accuracy: 0.9915\n"
     ]
    },
    {
     "data": {
      "image/png": "[encoded data removed]",
      "text/plain": [
       "<Figure size 576x432 with 1 Axes>"
      ]
     },
     "metadata": {},
     "output_type": "display_data"
    }
   ],
   "source": [
    "'''Trains a simple convnet on the MNIST dataset.\n",
    "Gets to 99.25% test accuracy after 12 epochs\n",
    "(there is still a lot of margin for parameter tuning).\n",
    "16 seconds per epoch on a GRID K520 GPU.\n",
    "'''\n",
    "\n",
    "from __future__ import print_function\n",
    "import keras\n",
    "from keras.datasets import mnist\n",
    "from keras.models import Sequential\n",
    "from keras.layers import Dense, Dropout, Flatten\n",
    "from keras.layers import Conv2D, MaxPooling2D\n",
    "from keras import backend as K\n",
    "import cv2\n",
    "\n",
    "batch_size = 128\n",
    "num_classes = 10\n",
    "epochs = 15\n",
    "\n",
    "# input image dimensions\n",
    "img_rows, img_cols = 28, 28\n",
    "\n",
    "# the data, split between train and test sets\n",
    "(x_train, y_train), (x_test, y_test) = mnist.load_data()\n",
    "\n",
    "if K.image_data_format() == 'channels_first':\n",
    "    x_train = x_train.reshape(x_train.shape[0], 1, img_rows, img_cols)\n",
    "    x_test = x_test.reshape(x_test.shape[0], 1, img_rows, img_cols)\n",
    "    input_shape = (1, img_rows, img_cols)\n",
    "else:\n",
    "    x_train = x_train.reshape(x_train.shape[0], img_rows, img_cols, 1)\n",
    "    x_test = x_test.reshape(x_test.shape[0], img_rows, img_cols, 1)\n",
    "    input_shape = (img_rows, img_cols, 1)\n",
    "\n",
    "x_train = x_train.astype('float32')\n",
    "x_test = x_test.astype('float32')\n",
    "x_train /= 255\n",
    "x_test /= 255\n",
    "print('x_train shape:', x_train.shape)\n",
    "print(x_train.shape[0], 'train samples')\n",
    "print(x_test.shape[0], 'test samples')\n",
    "\n",
    "# convert class vectors to binary class matrices\n",
    "y_train = keras.utils.to_categorical(y_train, num_classes)\n",
    "y_test = keras.utils.to_categorical(y_test, num_classes)\n",
    "\n",
    "modelcnn1 = Sequential()\n",
    "modelcnn1.add(Conv2D(32, kernel_size=(3, 3),\n",
    "                 activation='relu',\n",
    "                 input_shape=input_shape))\n",
    "modelcnn1.add(Conv2D(64, (3, 3), activation='relu'))\n",
    "modelcnn1.add(MaxPooling2D(pool_size=(2, 2)))\n",
    "modelcnn1.add(Dropout(0.25))\n",
    "modelcnn1.add(Flatten())\n",
    "modelcnn1.add(Dense(128, activation='relu'))\n",
    "modelcnn1.add(Dropout(0.5))\n",
    "modelcnn1.add(Dense(num_classes, activation='softmax'))\n",
    "\n",
    "modelcnn1.compile(loss=keras.losses.categorical_crossentropy,\n",
    "              optimizer=keras.optimizers.Adadelta(),\n",
    "              metrics=['accuracy'])\n",
    "\n",
    "H=modelcnn1.fit(x_train, y_train,\n",
    "          batch_size=batch_size,\n",
    "          epochs=epochs,\n",
    "          verbose=1,\n",
    "          validation_data=(x_test, y_test))\n",
    "score = modelcnn1.evaluate(x_test, y_test, verbose=0)\n",
    "print('Test loss:', score[0])\n",
    "print('Test accuracy:', score[1])\n",
    "\n",
    "# plot the training loss and accuracy\n",
    "N = np.arange(0, epochs)\n",
    "plt.style.use(\"ggplot\")\n",
    "plt.figure(figsize=[8,6])\n",
    "plt.plot(N, H.history[\"loss\"], label=\"train_loss\")\n",
    "plt.plot(N, H.history[\"val_loss\"], label=\"val_loss\")\n",
    "plt.plot(N, H.history[\"acc\"], label=\"train_acc\")\n",
    "plt.plot(N, H.history[\"val_acc\"], label=\"val_acc\")\n",
    "plt.title(\"Training Loss and Accuracy (Simple NN)\")\n",
    "plt.xlabel(\"Epoch #\")\n",
    "plt.ylabel(\"Loss/Accuracy\")\n",
    "plt.legend()\n",
    "plt.savefig(\"C:\\\\Users\\\\pchak\\\\Desktop\\\\MNISTDemo\\\\simple1_Cnn_lb1.png\")\n",
    "\n",
    "modelcnn1.save('C:\\\\Users\\\\pchak\\\\Desktop\\\\MNISTDemo\\\\MNISTmodel.h5')"
   ]
  },
  {
   "cell_type": "code",
   "execution_count": 59,
   "metadata": {},
   "outputs": [
    {
     "name": "stdout",
     "output_type": "stream",
     "text": [
      "6\n"
     ]
    },
    {
     "data": {
      "image/png": "[encoded data removed]",
      "text/plain": [
       "<Figure size 432x288 with 1 Axes>"
      ]
     },
     "metadata": {
      "needs_background": "light"
     },
     "output_type": "display_data"
    }
   ],
   "source": [
    "image_index = 8256\n",
    "plt.imshow(x_test[image_index].reshape(28, 28),cmap='Greys')\n",
    "pred = modelcnn1.predict(x_test[image_index].reshape(1, img_rows, img_cols, 1))\n",
    "print(pred.argmax())"
   ]
  },
  {
   "cell_type": "code",
   "execution_count": 3,
   "metadata": {},
   "outputs": [
    {
     "name": "stdout",
     "output_type": "stream",
     "text": [
      "\n",
      " Given Number is:0 \n"
     ]
    },
    {
     "data": {
      "text/plain": [
       "<matplotlib.image.AxesImage at 0x1ed9d3f1470>"
      ]
     },
     "execution_count": 3,
     "metadata": {},
     "output_type": "execute_result"
    },
    {
     "data": {
      "image/png": "[encoded data removed]",
      "text/plain": [
       "<Figure size 432x288 with 1 Axes>"
      ]
     },
     "metadata": {
      "needs_background": "light"
     },
     "output_type": "display_data"
    }
   ],
   "source": [
    "# Importing the Keras libraries and packages\n",
    "from keras.models import load_model\n",
    "import matplotlib.pyplot as plt\n",
    "#from PIL import Image\n",
    "import numpy as np\n",
    "import cv2\n",
    "%matplotlib inline\n",
    "\n",
    "model = load_model('C:\\\\Users\\\\pchak\\\\Desktop\\\\MNISTDemo\\\\MNISTmodel.h5')\n",
    "img=cv2.imread(\"C:\\\\Users\\\\pchak\\\\Desktop\\\\MNISTDemo\\\\5.jpg\",0)\n",
    "#kernel=np.array([[0,1,0],[1,1,1],[0,1,0]],dtype='uint8')\n",
    "kernel = np.ones((5,5), np.uint8)\n",
    "#img = cv2.resize((28,28),dtype='uint8')\n",
    "dim=(28,28)\n",
    "crop_img = cv2.resize(img, dim, interpolation = cv2.INTER_AREA)\n",
    "im2arr = np.array(crop_img)\n",
    "im2arr = im2arr.reshape(1,28,28,1)\n",
    "# Predicting the Test set results\n",
    "y_pred = model.predict(im2arr)\n",
    "    \n",
    "print(\"\\n Given Number is:{0} \".format(np.argmax(y_pred)))\n",
    "plt.imshow(crop_img)\n",
    "\n",
    "\n",
    "# 3, 5->2 ,7->2, 8 ,9->8"
   ]
  },
  {
   "cell_type": "markdown",
   "metadata": {},
   "source": [
    "# 7. Transfer Learning"
   ]
  },
  {
   "cell_type": "markdown",
   "metadata": {},
   "source": [
    "   ## 1. Transfer learning generally refers to a process where a model trained on one problem is used in some way on a second related problem.\n",
    "   ## 2. Transfer learning has the benefit of decreasing the training time for a neural network model and can result in lower generalization error.\n",
    "   ## 3. Example: First train a Convolutional Neural Network to recognize dogs versus cats Then, use the same CNN trained on the dog and cat data and use it to distinguish between the bear classes, even though no bear data was mixed with the dog and cat data during the initial training"
   ]
  },
  {
   "cell_type": "code",
   "execution_count": null,
   "metadata": {},
   "outputs": [],
   "source": [
    "\n",
    "Transfer learning toy example.\n",
    "\n",
    "1 - Train a simple convnet on the MNIST dataset the first 5 digits [0..4]. 2 - Freeze convolutional layers and fine-tune dense layers for the classification of digits [5..9].\n",
    "\n",
    "Get to 99.8% test accuracy after 5 epochs for the first five digits classifier and 99.2% for the last five digits after transfer + fine-tuning.\n",
    "\n",
    "from __future__ import print_function\n",
    "\n",
    "import datetime\n",
    "import keras\n",
    "from keras.datasets import mnist\n",
    "from keras.models import Sequential\n",
    "from keras.layers import Dense, Dropout, Activation, Flatten\n",
    "from keras.layers import Conv2D, MaxPooling2D\n",
    "from keras import backend as K\n",
    "\n",
    "now = datetime.datetime.now\n",
    "\n",
    "batch_size = 128\n",
    "num_classes = 5\n",
    "epochs = 5\n",
    "\n",
    "# input image dimensions\n",
    "img_rows, img_cols = 28, 28\n",
    "# number of convolutional filters to use\n",
    "filters = 32\n",
    "# size of pooling area for max pooling\n",
    "pool_size = 2\n",
    "# convolution kernel size\n",
    "kernel_size = 3\n",
    "\n",
    "if K.image_data_format() == 'channels_first':\n",
    "    input_shape = (1, img_rows, img_cols)\n",
    "else:\n",
    "    input_shape = (img_rows, img_cols, 1)\n",
    "\n",
    "\n",
    "def train_model(model, train, test, num_classes):\n",
    "    x_train = train[0].reshape((train[0].shape[0],) + input_shape)\n",
    "    x_test = test[0].reshape((test[0].shape[0],) + input_shape)\n",
    "    x_train = x_train.astype('float32')\n",
    "    x_test = x_test.astype('float32')\n",
    "    x_train /= 255\n",
    "    x_test /= 255\n",
    "    print('x_train shape:', x_train.shape)\n",
    "    print(x_train.shape[0], 'train samples')\n",
    "    print(x_test.shape[0], 'test samples')\n",
    "\n",
    "    # convert class vectors to binary class matrices\n",
    "    y_train = keras.utils.to_categorical(train[1], num_classes)\n",
    "    y_test = keras.utils.to_categorical(test[1], num_classes)\n",
    "\n",
    "    model.compile(loss='categorical_crossentropy',\n",
    "                  optimizer='adadelta',\n",
    "                  metrics=['accuracy'])\n",
    "\n",
    "    t = now()\n",
    "    model.fit(x_train, y_train,\n",
    "              batch_size=batch_size,\n",
    "              epochs=epochs,\n",
    "              verbose=1,\n",
    "              validation_data=(x_test, y_test))\n",
    "    print('Training time: %s' % (now() - t))\n",
    "    score = model.evaluate(x_test, y_test, verbose=0)\n",
    "    print('Test score:', score[0])\n",
    "    print('Test accuracy:', score[1])\n",
    "\n",
    "\n",
    "# the data, split between train and test sets\n",
    "(x_train, y_train), (x_test, y_test) = mnist.load_data()\n",
    "\n",
    "# create two datasets one with digits below 5 and one with 5 and above\n",
    "x_train_lt5 = x_train[y_train < 5]\n",
    "y_train_lt5 = y_train[y_train < 5]\n",
    "x_test_lt5 = x_test[y_test < 5]\n",
    "y_test_lt5 = y_test[y_test < 5]\n",
    "\n",
    "x_train_gte5 = x_train[y_train >= 5]\n",
    "y_train_gte5 = y_train[y_train >= 5] - 5\n",
    "x_test_gte5 = x_test[y_test >= 5]\n",
    "y_test_gte5 = y_test[y_test >= 5] - 5\n",
    "\n",
    "# define two groups of layers: feature (convolutions) and classification (dense)\n",
    "feature_layers = [\n",
    "    Conv2D(filters, kernel_size,\n",
    "           padding='valid',\n",
    "           input_shape=input_shape),\n",
    "    Activation('relu'),\n",
    "    Conv2D(filters, kernel_size),\n",
    "    Activation('relu'),\n",
    "    MaxPooling2D(pool_size=pool_size),\n",
    "    Dropout(0.25),\n",
    "    Flatten(),\n",
    "]\n",
    "\n",
    "classification_layers = [\n",
    "    Dense(128),\n",
    "    Activation('relu'),\n",
    "    Dropout(0.5),\n",
    "    Dense(num_classes),\n",
    "    Activation('softmax')\n",
    "]\n",
    "\n",
    "# create complete model\n",
    "model = Sequential(feature_layers + classification_layers)\n",
    "\n",
    "# train model for 5-digit classification [0..4]\n",
    "train_model(model,\n",
    "            (x_train_lt5, y_train_lt5),\n",
    "            (x_test_lt5, y_test_lt5), num_classes)\n",
    "\n",
    "# freeze feature layers and rebuild model\n",
    "for l in feature_layers:\n",
    "    l.trainable = False\n",
    "\n",
    "# transfer: train dense layers for new classification task [5..9]\n",
    "train_model(model,\n",
    "            (x_train_gte5, y_train_gte5),\n",
    "            (x_test_gte5, y_test_gte5), num_classes)"
   ]
  },
  {
   "cell_type": "markdown",
   "metadata": {},
   "source": [
    "# 8. References"
   ]
  },
  {
   "cell_type": "markdown",
   "metadata": {},
   "source": [
    "### 0. http://colah.github.io/posts/2014-10-Visualizing-MNIST/\n",
    "### 1. https://mohitatgithub.github.io/2018-03-28-MNIST-Image-Classification-with-CNN-&-Keras/\n",
    "### 2. http://yann.lecun.com/exdb/mnist/\n",
    "### 3. https://microsoft.github.io/onnxjs-demo/#/mnist\n",
    "#### 4. https://machinelearningmastery.com/how-to-develop-a-convolutional-neural-network-from-scratch-for-mnist-handwritten-digit-classification/\n",
    "### 5. https://towardsdatascience.com/image-classification-in-10-minutes-with-mnist-dataset-54c35b77a38d\n",
    "### 6. https://machinelearningmastery.com/how-to-use-transfer-learning-when-developing-convolutional-neural-network-models/\n",
    "### 7. https://keras.io/examples/mnist_transfer_cnn/"
   ]
  },
  {
   "cell_type": "code",
   "execution_count": null,
   "metadata": {},
   "outputs": [],
   "source": []
  }
 ],
 "metadata": {
  "kernelspec": {
   "display_name": "Python 3",
   "language": "python",
   "name": "python3"
  },
  "language_info": {
   "codemirror_mode": {
    "name": "ipython",
    "version": 3
   },
   "file_extension": ".py",
   "mimetype": "text/x-python",
   "name": "python",
   "nbconvert_exporter": "python",
   "pygments_lexer": "ipython3",
   "version": "3.7.4"
  }
 },
 "nbformat": 4,
 "nbformat_minor": 2
}
